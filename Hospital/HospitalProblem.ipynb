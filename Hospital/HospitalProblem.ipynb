{
 "cells": [
  {
   "cell_type": "markdown",
   "id": "1b47204c",
   "metadata": {},
   "source": [
    "<h1 style=\"color:#ffc0cb;font-size:70px;font-family:Georgia;text-align:center;\"><strong>Hospital Problem</strong></h1>\n",
    "\n",
    "### <b>Author: Nguyen Dang Huynh Chau</b>"
   ]
  },
  {
   "cell_type": "markdown",
   "id": "ddadbc81",
   "metadata": {},
   "source": [
    "<h1 style=\"color:#ffc0cb;font-size:40px;font-family:Georgia;text-align:center;\"><strong> 📜 Table of Content</strong></h1>\n",
    "\n",
    "### 1. [Data Preparation](#1)\n",
    "\n",
    "1.1 [Importing Necessary Libraries and datasets](#1.1)\n",
    "\n",
    "1.2 [Data Retrieving](#1.2)\n",
    "\n",
    "1.3 [Data information](#1.3)\n",
    "\n",
    "<br>\n",
    "\n",
    "### 2. [Data Cleaning](#2)\n",
    "\n",
    "2.1 [About This Dataset](#2.1)\n",
    "\n",
    "2.2 [Data Processing](#2.2)\n",
    "\n",
    "> - 2.2.1 [Drop Column](#2.2.1) \n",
    "> - 2.2.2 [Convert length of stay to 0 and 1](#2.2.2)\n",
    "> - 2.2.2 [Convert Unknown](#2.2.2)\n",
    "\n",
    "\n",
    "2.3 [Check missing values](#2.3)\n",
    "\n",
    "2.4 [Data type](#2.4)\n",
    "\n",
    "2.5 [Upper Case the content](#2.5)\n",
    "\n",
    "2.6 [Extra-whitespaces](#2.6)\n",
    "\n",
    "2.7 [Descriptive statistics for Central Tendency](#2.7)\n",
    "\n",
    "2.8 [Detect Outlier](#2.8)\n",
    "\n",
    "2.9 [Save The Intermediate Data](#2.9)\n",
    "\n",
    "<br>\n",
    "\n",
    "### 3. [Data Exploration (EDA)](#3)\n",
    "\n",
    "3.1 [Overall look on target variable](#3.1)\n",
    "\n",
    "3.2 [Frequency of each corresponiding Target variable type](#3.2)\n",
    "\n",
    "3.3 [Statistical Overview](#3.3)\n",
    "\n",
    "3.4 [Correlation Matrix and Heatmap](#3.4)\n",
    "\n",
    "<br>\n",
    "\n",
    "### 4. [Feature Engineering](#4)\n",
    "\n",
    "4.1 [Separating dependent and independent variables](#4.1)\n",
    "\n",
    "4.2 [Encoding](#4.2)\n",
    "\n",
    "> 4.2.1 [Binary Encoding for Name and Ticket Feature:](#4.2.1)\n",
    "\n",
    "> 4.2.2 [Binary Encoding for Embarked Feature:](#4.2.2)\n",
    "\n",
    "4.3 [Separating dependent and independent variables](#4.3)\n",
    "\n",
    "4.4 [Splitting the training data](#4.4)\n",
    "\n",
    "4.5 [Feature Scaling](#4.5)\n",
    "\n",
    "<br>\n",
    "\n",
    "### 5. [Model Building](#5) \n",
    "\n",
    "5.1 [Logistic Regression](#5.1)\n",
    "\n",
    "5.1 [Feature Scaling](#5.2)\n",
    "\n",
    "5.1 [Feature Scaling](#5.3)\n",
    "\n",
    "5.1 [Feature Scaling](#5.4)\n",
    "\n",
    "\n",
    "<br>\n",
    "\n",
    "### 6. [Conculsions](#6)\n",
    "\n",
    "<br>\n",
    "\n",
    "### 7. [References](#7)\n",
    "\n",
    "<br>\n",
    "\n",
    "### 8. [Appendix](#8)\n",
    "\n",
    "<hr>"
   ]
  },
  {
   "cell_type": "markdown",
   "id": "cc61406c",
   "metadata": {},
   "source": [
    "<a id=\"1\"></a>\n",
    "<h1 style=\"color:#ffc0cb;font-size:40px;font-family:Georgia;text-align:center;\"><strong> ✍️ 1. Data Preparation</strong></h1>\n",
    "\n",
    "<a id=\"1.1\"></a>\n",
    "# ✴️ 1.1 Importing Necessary Libraries and datasets"
   ]
  },
  {
   "cell_type": "code",
   "execution_count": 1,
   "id": "92f53228",
   "metadata": {},
   "outputs": [
    {
     "name": "stdout",
     "output_type": "stream",
     "text": [
      "Requirement already satisfied: missingno in /opt/anaconda3/lib/python3.8/site-packages (0.5.0)\n",
      "Requirement already satisfied: numpy in /opt/anaconda3/lib/python3.8/site-packages (from missingno) (1.20.1)\n",
      "Requirement already satisfied: seaborn in /opt/anaconda3/lib/python3.8/site-packages (from missingno) (0.11.1)\n",
      "Requirement already satisfied: matplotlib in /opt/anaconda3/lib/python3.8/site-packages (from missingno) (3.3.4)\n",
      "Requirement already satisfied: scipy in /opt/anaconda3/lib/python3.8/site-packages (from missingno) (1.6.2)\n",
      "Requirement already satisfied: cycler>=0.10 in /opt/anaconda3/lib/python3.8/site-packages (from matplotlib->missingno) (0.10.0)\n",
      "Requirement already satisfied: python-dateutil>=2.1 in /opt/anaconda3/lib/python3.8/site-packages (from matplotlib->missingno) (2.8.1)\n",
      "Requirement already satisfied: kiwisolver>=1.0.1 in /opt/anaconda3/lib/python3.8/site-packages (from matplotlib->missingno) (1.3.1)\n",
      "Requirement already satisfied: pillow>=6.2.0 in /opt/anaconda3/lib/python3.8/site-packages (from matplotlib->missingno) (8.2.0)\n",
      "Requirement already satisfied: pyparsing!=2.0.4,!=2.1.2,!=2.1.6,>=2.0.3 in /opt/anaconda3/lib/python3.8/site-packages (from matplotlib->missingno) (2.4.7)\n",
      "Requirement already satisfied: six in /opt/anaconda3/lib/python3.8/site-packages (from cycler>=0.10->matplotlib->missingno) (1.15.0)\n",
      "Requirement already satisfied: pandas>=0.23 in /opt/anaconda3/lib/python3.8/site-packages (from seaborn->missingno) (1.2.4)\n",
      "Requirement already satisfied: pytz>=2017.3 in /opt/anaconda3/lib/python3.8/site-packages (from pandas>=0.23->seaborn->missingno) (2021.1)\n",
      "Requirement already satisfied: scikit-learn in /opt/anaconda3/lib/python3.8/site-packages (1.0.1)\n",
      "Requirement already satisfied: threadpoolctl>=2.0.0 in /opt/anaconda3/lib/python3.8/site-packages (from scikit-learn) (2.1.0)\n",
      "Requirement already satisfied: numpy>=1.14.6 in /opt/anaconda3/lib/python3.8/site-packages (from scikit-learn) (1.20.1)\n",
      "Requirement already satisfied: joblib>=0.11 in /opt/anaconda3/lib/python3.8/site-packages (from scikit-learn) (1.0.1)\n",
      "Requirement already satisfied: scipy>=1.1.0 in /opt/anaconda3/lib/python3.8/site-packages (from scikit-learn) (1.6.2)\n",
      "Requirement already satisfied: xgboost in /opt/anaconda3/lib/python3.8/site-packages (1.5.1)\n",
      "Requirement already satisfied: numpy in /opt/anaconda3/lib/python3.8/site-packages (from xgboost) (1.20.1)\n",
      "Requirement already satisfied: scipy in /opt/anaconda3/lib/python3.8/site-packages (from xgboost) (1.6.2)\n",
      "Requirement already satisfied: statsmodels in /opt/anaconda3/lib/python3.8/site-packages (0.12.2)\n",
      "Requirement already satisfied: pandas>=0.21 in /opt/anaconda3/lib/python3.8/site-packages (from statsmodels) (1.2.4)\n",
      "Requirement already satisfied: numpy>=1.15 in /opt/anaconda3/lib/python3.8/site-packages (from statsmodels) (1.20.1)\n",
      "Requirement already satisfied: scipy>=1.1 in /opt/anaconda3/lib/python3.8/site-packages (from statsmodels) (1.6.2)\n",
      "Requirement already satisfied: patsy>=0.5 in /opt/anaconda3/lib/python3.8/site-packages (from statsmodels) (0.5.1)\n",
      "Requirement already satisfied: python-dateutil>=2.7.3 in /opt/anaconda3/lib/python3.8/site-packages (from pandas>=0.21->statsmodels) (2.8.1)\n",
      "Requirement already satisfied: pytz>=2017.3 in /opt/anaconda3/lib/python3.8/site-packages (from pandas>=0.21->statsmodels) (2021.1)\n",
      "Requirement already satisfied: six in /opt/anaconda3/lib/python3.8/site-packages (from patsy>=0.5->statsmodels) (1.15.0)\n",
      "Requirement already satisfied: imbalanced-learn in /opt/anaconda3/lib/python3.8/site-packages (0.8.1)\n",
      "Requirement already satisfied: scipy>=0.19.1 in /opt/anaconda3/lib/python3.8/site-packages (from imbalanced-learn) (1.6.2)\n",
      "Requirement already satisfied: scikit-learn>=0.24 in /opt/anaconda3/lib/python3.8/site-packages (from imbalanced-learn) (1.0.1)\n",
      "Requirement already satisfied: numpy>=1.13.3 in /opt/anaconda3/lib/python3.8/site-packages (from imbalanced-learn) (1.20.1)\n",
      "Requirement already satisfied: joblib>=0.11 in /opt/anaconda3/lib/python3.8/site-packages (from imbalanced-learn) (1.0.1)\n",
      "Requirement already satisfied: threadpoolctl>=2.0.0 in /opt/anaconda3/lib/python3.8/site-packages (from scikit-learn>=0.24->imbalanced-learn) (2.1.0)\n",
      "Requirement already satisfied: category_encoders in /opt/anaconda3/lib/python3.8/site-packages (2.3.0)\n",
      "Requirement already satisfied: scipy>=1.0.0 in /opt/anaconda3/lib/python3.8/site-packages (from category_encoders) (1.6.2)\n",
      "Requirement already satisfied: scikit-learn>=0.20.0 in /opt/anaconda3/lib/python3.8/site-packages (from category_encoders) (1.0.1)\n",
      "Requirement already satisfied: statsmodels>=0.9.0 in /opt/anaconda3/lib/python3.8/site-packages (from category_encoders) (0.12.2)\n",
      "Requirement already satisfied: pandas>=0.21.1 in /opt/anaconda3/lib/python3.8/site-packages (from category_encoders) (1.2.4)\n",
      "Requirement already satisfied: numpy>=1.14.0 in /opt/anaconda3/lib/python3.8/site-packages (from category_encoders) (1.20.1)\n",
      "Requirement already satisfied: patsy>=0.5.1 in /opt/anaconda3/lib/python3.8/site-packages (from category_encoders) (0.5.1)\n",
      "Requirement already satisfied: python-dateutil>=2.7.3 in /opt/anaconda3/lib/python3.8/site-packages (from pandas>=0.21.1->category_encoders) (2.8.1)\n",
      "Requirement already satisfied: pytz>=2017.3 in /opt/anaconda3/lib/python3.8/site-packages (from pandas>=0.21.1->category_encoders) (2021.1)\n",
      "Requirement already satisfied: six in /opt/anaconda3/lib/python3.8/site-packages (from patsy>=0.5.1->category_encoders) (1.15.0)\n",
      "Requirement already satisfied: threadpoolctl>=2.0.0 in /opt/anaconda3/lib/python3.8/site-packages (from scikit-learn>=0.20.0->category_encoders) (2.1.0)\n",
      "Requirement already satisfied: joblib>=0.11 in /opt/anaconda3/lib/python3.8/site-packages (from scikit-learn>=0.20.0->category_encoders) (1.0.1)\n"
     ]
    }
   ],
   "source": [
    "# Install a conda package in the current Jupyter kernel\n",
    "import sys\n",
    "!{sys.executable} -m pip install missingno\n",
    "!{sys.executable} -m pip install scikit-learn\n",
    "!{sys.executable} -m pip install xgboost\n",
    "!{sys.executable} -m pip install statsmodels\n",
    "!{sys.executable} -m pip install imbalanced-learn\n",
    "!{sys.executable} -m pip install category_encoders\n",
    "\n",
    "\n",
    "# work with data in tabular representation\n",
    "from datetime import time\n",
    "import pandas as pd\n",
    "# round the data in the correlation matrix\n",
    "import numpy as np\n",
    "import os\n",
    "\n",
    "\n",
    "# Modules for data visualization\n",
    "import seaborn as sns\n",
    "import missingno as msno\n",
    "import matplotlib.pyplot as plt\n",
    "import matplotlib.patches as mpatches\n",
    "\n",
    "from sklearn.model_selection import train_test_split, GridSearchCV\n",
    "from sklearn.pipeline import Pipeline\n",
    "from sklearn.metrics import plot_confusion_matrix, classification_report\n",
    "from sklearn.neighbors import KNeighborsClassifier\n",
    "\n",
    "# encoding\n",
    "from sklearn.preprocessing import OneHotEncoder, OrdinalEncoder\n",
    "import category_encoders as ce\n",
    "\n",
    "# import LogisticRegression model in python. \n",
    "from sklearn.linear_model import LogisticRegression\n",
    "from sklearn.metrics import mean_absolute_error, accuracy_score\n",
    "\n",
    "# for saving the pipeline\n",
    "import joblib\n",
    "\n",
    "# from Scikit-learn\n",
    "from sklearn.linear_model import Lasso\n",
    "from sklearn.pipeline import Pipeline\n",
    "from sklearn.preprocessing import MinMaxScaler, Binarizer\n",
    "\n",
    "pd.set_option('display.max_rows', 200)\n",
    "pd.set_option('display.max_columns', 200)\n",
    "\n",
    "# Ensure that our plots are shown and embedded within the Jupyter notebook itself. Without this command, sometimes plots may show up in pop-up windows\n",
    "%matplotlib inline\n",
    "\n",
    "# overwrite the style of all the matplotlib graphs\n",
    "sns.set()\n",
    "\n",
    "# ignore DeprecationWarning Error Messages\n",
    "import warnings\n",
    "warnings.filterwarnings('ignore')"
   ]
  },
  {
   "cell_type": "code",
   "execution_count": 2,
   "id": "a351936b",
   "metadata": {},
   "outputs": [
    {
     "name": "stdout",
     "output_type": "stream",
     "text": [
      "Numpy version:  1.20.1\n",
      "Pandas version:  1.2.4\n",
      "Python 2.7.16\r\n"
     ]
    }
   ],
   "source": [
    "# check the version of the packages\n",
    "print(\"Numpy version: \", np.__version__)\n",
    "print(\"Pandas version: \",pd.__version__)\n",
    "! python --version"
   ]
  },
  {
   "cell_type": "markdown",
   "id": "d777b242",
   "metadata": {},
   "source": [
    "<a id=\"1.2\"></a>\n",
    "# 📲 1.2 Data Retrieving\n",
    "***\n",
    "In order to load data properly, the data in csv file have to be examined carefully. First of all, all the categories are seperated by the \",\" and strip the extra-whitespaces at the begin by setting \"skipinitialspace = True\"."
   ]
  },
  {
   "cell_type": "markdown",
   "id": "785d789a",
   "metadata": {},
   "source": [
    "> **Sample train Dataset**"
   ]
  },
  {
   "cell_type": "code",
   "execution_count": 3,
   "id": "1cad3d4e",
   "metadata": {},
   "outputs": [
    {
     "name": "stdout",
     "output_type": "stream",
     "text": [
      "The shape of the ORGINAL data is (row, column): (59966, 16)\n"
     ]
    },
    {
     "data": {
      "text/html": [
       "<div>\n",
       "<style scoped>\n",
       "    .dataframe tbody tr th:only-of-type {\n",
       "        vertical-align: middle;\n",
       "    }\n",
       "\n",
       "    .dataframe tbody tr th {\n",
       "        vertical-align: top;\n",
       "    }\n",
       "\n",
       "    .dataframe thead th {\n",
       "        text-align: right;\n",
       "    }\n",
       "</style>\n",
       "<table border=\"1\" class=\"dataframe\">\n",
       "  <thead>\n",
       "    <tr style=\"text-align: right;\">\n",
       "      <th></th>\n",
       "      <th>ID</th>\n",
       "      <th>HealthServiceArea</th>\n",
       "      <th>Gender</th>\n",
       "      <th>Race</th>\n",
       "      <th>TypeOfAdmission</th>\n",
       "      <th>CCSProcedureCode</th>\n",
       "      <th>APRSeverityOfIllnessCode</th>\n",
       "      <th>PaymentTypology</th>\n",
       "      <th>BirthWeight</th>\n",
       "      <th>EmergencyDepartmentIndicator</th>\n",
       "      <th>AverageCostInCounty</th>\n",
       "      <th>AverageChargesInCounty</th>\n",
       "      <th>AverageCostInFacility</th>\n",
       "      <th>AverageChargesInFacility</th>\n",
       "      <th>AverageIncomeInZipCode</th>\n",
       "      <th>LengthOfStay</th>\n",
       "    </tr>\n",
       "  </thead>\n",
       "  <tbody>\n",
       "    <tr>\n",
       "      <th>0</th>\n",
       "      <td>1</td>\n",
       "      <td>New York City</td>\n",
       "      <td>F</td>\n",
       "      <td>Other Race</td>\n",
       "      <td>Newborn</td>\n",
       "      <td>228</td>\n",
       "      <td>1</td>\n",
       "      <td>Medicaid</td>\n",
       "      <td>3700</td>\n",
       "      <td>N</td>\n",
       "      <td>2611</td>\n",
       "      <td>9227</td>\n",
       "      <td>1751</td>\n",
       "      <td>8951</td>\n",
       "      <td>45</td>\n",
       "      <td>1</td>\n",
       "    </tr>\n",
       "    <tr>\n",
       "      <th>1</th>\n",
       "      <td>2</td>\n",
       "      <td>New York City</td>\n",
       "      <td>M</td>\n",
       "      <td>Black/African American</td>\n",
       "      <td>Newborn</td>\n",
       "      <td>228</td>\n",
       "      <td>1</td>\n",
       "      <td>Medicaid</td>\n",
       "      <td>2900</td>\n",
       "      <td>N</td>\n",
       "      <td>3242</td>\n",
       "      <td>8966</td>\n",
       "      <td>3338</td>\n",
       "      <td>6409</td>\n",
       "      <td>34</td>\n",
       "      <td>1</td>\n",
       "    </tr>\n",
       "    <tr>\n",
       "      <th>2</th>\n",
       "      <td>3</td>\n",
       "      <td>New York City</td>\n",
       "      <td>M</td>\n",
       "      <td>Other Race</td>\n",
       "      <td>Newborn</td>\n",
       "      <td>220</td>\n",
       "      <td>1</td>\n",
       "      <td>Private Health Insurance</td>\n",
       "      <td>3200</td>\n",
       "      <td>N</td>\n",
       "      <td>3155</td>\n",
       "      <td>11381</td>\n",
       "      <td>4980</td>\n",
       "      <td>9323</td>\n",
       "      <td>45</td>\n",
       "      <td>1</td>\n",
       "    </tr>\n",
       "  </tbody>\n",
       "</table>\n",
       "</div>"
      ],
      "text/plain": [
       "   ID HealthServiceArea Gender                    Race TypeOfAdmission  \\\n",
       "0   1     New York City      F              Other Race         Newborn   \n",
       "1   2     New York City      M  Black/African American         Newborn   \n",
       "2   3     New York City      M              Other Race         Newborn   \n",
       "\n",
       "   CCSProcedureCode  APRSeverityOfIllnessCode           PaymentTypology  \\\n",
       "0               228                         1                  Medicaid   \n",
       "1               228                         1                  Medicaid   \n",
       "2               220                         1  Private Health Insurance   \n",
       "\n",
       "   BirthWeight EmergencyDepartmentIndicator  AverageCostInCounty  \\\n",
       "0         3700                            N                 2611   \n",
       "1         2900                            N                 3242   \n",
       "2         3200                            N                 3155   \n",
       "\n",
       "   AverageChargesInCounty  AverageCostInFacility  AverageChargesInFacility  \\\n",
       "0                    9227                   1751                      8951   \n",
       "1                    8966                   3338                      6409   \n",
       "2                   11381                   4980                      9323   \n",
       "\n",
       "   AverageIncomeInZipCode  LengthOfStay  \n",
       "0                      45             1  \n",
       "1                      34             1  \n",
       "2                      45             1  "
      ]
     },
     "execution_count": 3,
     "metadata": {},
     "output_type": "execute_result"
    }
   ],
   "source": [
    "## Importing the datasets\n",
    "train = pd.read_csv(\"Data/train_data.csv\", delimiter=',', skipinitialspace = True)\n",
    "\n",
    "train.columns = train.columns.str.replace(' ', '') #strip the extra-whitespaces out\n",
    "\n",
    "print(\"The shape of the ORGINAL data is (row, column):\", str(train.shape))\n",
    "\n",
    "# drop Unnamed, it is just a number given to identify each house\n",
    "train.head(3)"
   ]
  },
  {
   "cell_type": "markdown",
   "id": "6d68f273",
   "metadata": {},
   "source": [
    "> **Sample test Dataset**"
   ]
  },
  {
   "cell_type": "code",
   "execution_count": 4,
   "id": "777cb0c7",
   "metadata": {},
   "outputs": [
    {
     "name": "stdout",
     "output_type": "stream",
     "text": [
      "The shape of the ORGINAL data is (row, column): (69177, 15)\n"
     ]
    },
    {
     "data": {
      "text/html": [
       "<div>\n",
       "<style scoped>\n",
       "    .dataframe tbody tr th:only-of-type {\n",
       "        vertical-align: middle;\n",
       "    }\n",
       "\n",
       "    .dataframe tbody tr th {\n",
       "        vertical-align: top;\n",
       "    }\n",
       "\n",
       "    .dataframe thead th {\n",
       "        text-align: right;\n",
       "    }\n",
       "</style>\n",
       "<table border=\"1\" class=\"dataframe\">\n",
       "  <thead>\n",
       "    <tr style=\"text-align: right;\">\n",
       "      <th></th>\n",
       "      <th>ID</th>\n",
       "      <th>HealthServiceArea</th>\n",
       "      <th>Gender</th>\n",
       "      <th>Race</th>\n",
       "      <th>TypeOfAdmission</th>\n",
       "      <th>CCSProcedureCode</th>\n",
       "      <th>APRSeverityOfIllnessCode</th>\n",
       "      <th>PaymentTypology</th>\n",
       "      <th>BirthWeight</th>\n",
       "      <th>EmergencyDepartmentIndicator</th>\n",
       "      <th>AverageCostInCounty</th>\n",
       "      <th>AverageChargesInCounty</th>\n",
       "      <th>AverageCostInFacility</th>\n",
       "      <th>AverageChargesInFacility</th>\n",
       "      <th>AverageIncomeInZipCode</th>\n",
       "    </tr>\n",
       "  </thead>\n",
       "  <tbody>\n",
       "    <tr>\n",
       "      <th>0</th>\n",
       "      <td>1</td>\n",
       "      <td>New York City</td>\n",
       "      <td>F</td>\n",
       "      <td>Other Race</td>\n",
       "      <td>Newborn</td>\n",
       "      <td>216</td>\n",
       "      <td>3</td>\n",
       "      <td>Medicaid</td>\n",
       "      <td>4900</td>\n",
       "      <td>N</td>\n",
       "      <td>3242</td>\n",
       "      <td>8966</td>\n",
       "      <td>2448</td>\n",
       "      <td>13196</td>\n",
       "      <td>34</td>\n",
       "    </tr>\n",
       "    <tr>\n",
       "      <th>1</th>\n",
       "      <td>2</td>\n",
       "      <td>New York City</td>\n",
       "      <td>F</td>\n",
       "      <td>White</td>\n",
       "      <td>Newborn</td>\n",
       "      <td>220</td>\n",
       "      <td>1</td>\n",
       "      <td>Medicaid</td>\n",
       "      <td>3100</td>\n",
       "      <td>N</td>\n",
       "      <td>2611</td>\n",
       "      <td>9227</td>\n",
       "      <td>1751</td>\n",
       "      <td>8951</td>\n",
       "      <td>45</td>\n",
       "    </tr>\n",
       "    <tr>\n",
       "      <th>2</th>\n",
       "      <td>3</td>\n",
       "      <td>New York City</td>\n",
       "      <td>M</td>\n",
       "      <td>Multi-racial</td>\n",
       "      <td>Newborn</td>\n",
       "      <td>115</td>\n",
       "      <td>1</td>\n",
       "      <td>Medicaid</td>\n",
       "      <td>3300</td>\n",
       "      <td>N</td>\n",
       "      <td>3155</td>\n",
       "      <td>11381</td>\n",
       "      <td>1052</td>\n",
       "      <td>11314</td>\n",
       "      <td>74</td>\n",
       "    </tr>\n",
       "  </tbody>\n",
       "</table>\n",
       "</div>"
      ],
      "text/plain": [
       "   ID HealthServiceArea Gender          Race TypeOfAdmission  \\\n",
       "0   1     New York City      F    Other Race         Newborn   \n",
       "1   2     New York City      F         White         Newborn   \n",
       "2   3     New York City      M  Multi-racial         Newborn   \n",
       "\n",
       "   CCSProcedureCode  APRSeverityOfIllnessCode PaymentTypology  BirthWeight  \\\n",
       "0               216                         3        Medicaid         4900   \n",
       "1               220                         1        Medicaid         3100   \n",
       "2               115                         1        Medicaid         3300   \n",
       "\n",
       "  EmergencyDepartmentIndicator  AverageCostInCounty  AverageChargesInCounty  \\\n",
       "0                            N                 3242                    8966   \n",
       "1                            N                 2611                    9227   \n",
       "2                            N                 3155                   11381   \n",
       "\n",
       "   AverageCostInFacility  AverageChargesInFacility  AverageIncomeInZipCode  \n",
       "0                   2448                     13196                      34  \n",
       "1                   1751                      8951                      45  \n",
       "2                   1052                     11314                      74  "
      ]
     },
     "execution_count": 4,
     "metadata": {},
     "output_type": "execute_result"
    }
   ],
   "source": [
    "test = pd.read_csv(\"Data/test_data.csv\", delimiter=',', skipinitialspace = True)\n",
    "\n",
    "test.columns = test.columns.str.replace(' ', '') #strip the extra-whitespaces out\n",
    "\n",
    "print(\"The shape of the ORGINAL data is (row, column):\", str(test.shape))\n",
    "\n",
    "# drop Unnamed, it is just a number given to identify each house\n",
    "test.head(3)"
   ]
  },
  {
   "cell_type": "markdown",
   "id": "4fe1ec8a",
   "metadata": {},
   "source": [
    "<a id=\"1.3\"></a>\n",
    "# 🔈 1.3 Data Information"
   ]
  },
  {
   "cell_type": "markdown",
   "id": "f3e1e235",
   "metadata": {},
   "source": [
    "> **Sample train Dataset**"
   ]
  },
  {
   "cell_type": "code",
   "execution_count": 5,
   "id": "b531feb7",
   "metadata": {},
   "outputs": [
    {
     "name": "stdout",
     "output_type": "stream",
     "text": [
      "The shape of the train data is (row, column):(59966, 16)\n",
      "<class 'pandas.core.frame.DataFrame'>\n",
      "RangeIndex: 59966 entries, 0 to 59965\n",
      "Data columns (total 16 columns):\n",
      " #   Column                        Non-Null Count  Dtype \n",
      "---  ------                        --------------  ----- \n",
      " 0   ID                            59966 non-null  int64 \n",
      " 1   HealthServiceArea             59966 non-null  object\n",
      " 2   Gender                        59966 non-null  object\n",
      " 3   Race                          59966 non-null  object\n",
      " 4   TypeOfAdmission               59966 non-null  object\n",
      " 5   CCSProcedureCode              59966 non-null  int64 \n",
      " 6   APRSeverityOfIllnessCode      59966 non-null  int64 \n",
      " 7   PaymentTypology               59966 non-null  object\n",
      " 8   BirthWeight                   59966 non-null  int64 \n",
      " 9   EmergencyDepartmentIndicator  59966 non-null  object\n",
      " 10  AverageCostInCounty           59966 non-null  int64 \n",
      " 11  AverageChargesInCounty        59966 non-null  int64 \n",
      " 12  AverageCostInFacility         59966 non-null  int64 \n",
      " 13  AverageChargesInFacility      59966 non-null  int64 \n",
      " 14  AverageIncomeInZipCode        59966 non-null  int64 \n",
      " 15  LengthOfStay                  59966 non-null  int64 \n",
      "dtypes: int64(10), object(6)\n",
      "memory usage: 7.3+ MB\n",
      "None\n"
     ]
    }
   ],
   "source": [
    "print (\"The shape of the train data is (row, column):\"+ str(train.shape))\n",
    "print (train.info())"
   ]
  },
  {
   "cell_type": "markdown",
   "id": "f77c5e59",
   "metadata": {},
   "source": [
    "> **Sample test Dataset**"
   ]
  },
  {
   "cell_type": "code",
   "execution_count": 6,
   "id": "0a2fd89c",
   "metadata": {},
   "outputs": [
    {
     "name": "stdout",
     "output_type": "stream",
     "text": [
      "The shape of the test data is (row, column):(69177, 15)\n",
      "<class 'pandas.core.frame.DataFrame'>\n",
      "RangeIndex: 69177 entries, 0 to 69176\n",
      "Data columns (total 15 columns):\n",
      " #   Column                        Non-Null Count  Dtype \n",
      "---  ------                        --------------  ----- \n",
      " 0   ID                            69177 non-null  int64 \n",
      " 1   HealthServiceArea             69177 non-null  object\n",
      " 2   Gender                        69177 non-null  object\n",
      " 3   Race                          69177 non-null  object\n",
      " 4   TypeOfAdmission               69177 non-null  object\n",
      " 5   CCSProcedureCode              69177 non-null  int64 \n",
      " 6   APRSeverityOfIllnessCode      69177 non-null  int64 \n",
      " 7   PaymentTypology               69177 non-null  object\n",
      " 8   BirthWeight                   69177 non-null  int64 \n",
      " 9   EmergencyDepartmentIndicator  69177 non-null  object\n",
      " 10  AverageCostInCounty           69177 non-null  int64 \n",
      " 11  AverageChargesInCounty        69177 non-null  int64 \n",
      " 12  AverageCostInFacility         69177 non-null  int64 \n",
      " 13  AverageChargesInFacility      69177 non-null  int64 \n",
      " 14  AverageIncomeInZipCode        69177 non-null  int64 \n",
      "dtypes: int64(9), object(6)\n",
      "memory usage: 7.9+ MB\n",
      "None\n"
     ]
    }
   ],
   "source": [
    "print (\"The shape of the test data is (row, column):\"+ str(test.shape))\n",
    "print (test.info())"
   ]
  },
  {
   "cell_type": "markdown",
   "id": "8b33704d",
   "metadata": {},
   "source": [
    "<a id=\"2\"></a>\n",
    "<h1 style=\"color:#ffc0cb;font-size:40px;font-family:Georgia;text-align:center;\"><strong> 🧹 2. Data Cleaning</strong></h1>"
   ]
  },
  {
   "cell_type": "markdown",
   "id": "ec13ea35",
   "metadata": {},
   "source": [
    "<a id=\"2.1\"></a>\n",
    "# 🦄 2.1 About This Dataset\n",
    "***\n",
    "The dataset is splitted into two groups:\n",
    "- Train set (train.csv)\n",
    "- Test set (test.csv)\n",
    "\n",
    "Now let's go through the features and describe a little:\n",
    "***\n",
    "**Categorical:** \n",
    "- **Nominal**(variables that have two or more categories, but which do not have an intrinsic order.)\n",
    "   > - **HealthServiceArea** (A description of the Health Service Area (HSA) in which the hospital is located)\n",
    "   > - **TypeOfAdmission** \n",
    "   (A description of   the manner in which the patient was admitted to the health care facility)\n",
    "            Newborn\n",
    "            Emergency \n",
    "            Urgent\n",
    "            Elective\n",
    "   > - **Race** (Patient race)\n",
    "            White\n",
    "            Other Race \n",
    "            Black/African American\n",
    "            Multi-racial\n",
    "   > - **PaymentTypology** (A description of the type of payment for this occurrence.)\n",
    "        \n",
    "- **Dichotomous**(Nominal variable with only two categories)\n",
    "   > - **Gender**\n",
    "            F\n",
    "            M\n",
    "   > - **EmergencyDepartmentIndicator** \n",
    "   (Emergency Department Indicator is set based on the submitted revenue codes. If the record contained an Emergency       Department revenue code of 045X)\n",
    "            Y\n",
    "            N\n",
    "***\n",
    "**Numeric:**\n",
    "- **Discrete**\n",
    "  >  - **ID**(Unique identifing # for each passenger)\n",
    "  >  - **CCSProcedureCode** (AHRQ Clinical Classification Software (CCS) ICD-9 Procedure Category Code)\n",
    "  >  - **APRSeverityOfIllnessCode** (All Patient  Refined Severity of Illness (APR SOI) Description) \n",
    "             Minor (1)\n",
    "             Moderate (2)   \n",
    "             Major (3)\n",
    "             Extreme (4))\n",
    "  >  - **LengthOfStay** (The total number  of patient days at an acute level and/or other than acute care level.)\n",
    "\n",
    "- **Continous**\n",
    ">  - **BirthWeight** (The neonate birth weight in grams; rounded to nearest)\n",
    ">  - **AverageCostInCounty** (Average hospitalization Cost In County of the patient)\n",
    ">  - **AverageChargesInCounty** (Average medical Charges In County of the patient)\n",
    ">  - **AverageCostInFacility** (Average Cost In Facility)\n",
    ">  - **AverageChargesInFacility** (Average Charges cost In Facility)\n",
    ">  - **AverageIncomeInZipCode** (Average Income In Zip Code)\n",
    ">  - **LengthOfStay** (The total number  of patient days at an acute level and/or other than acute care level.)"
   ]
  },
  {
   "cell_type": "markdown",
   "id": "3c97fe64",
   "metadata": {},
   "source": [
    "<a id=\"2.2\"></a>\n",
    "# ❌ 2.2 Data preprocessing\n",
    "***"
   ]
  },
  {
   "cell_type": "markdown",
   "id": "5a83de4e",
   "metadata": {},
   "source": [
    "<a id=\"2.2.1\"></a>\n",
    "## 2.2.1 Drop column\n",
    "***\n",
    "- In order to avoid data leakage, I desire to drop column `ID`.\n",
    "- I also desire to drop `HealthServiceArea` since it does not contain the specific location, and there is no correlation between `HealthServiceArea` and `LengthOfStay`."
   ]
  },
  {
   "cell_type": "code",
   "execution_count": 7,
   "id": "8148875e",
   "metadata": {},
   "outputs": [],
   "source": [
    "train = train.drop(columns=['ID', 'HealthServiceArea', 'AverageIncomeInZipCode'])\n",
    "test = test.drop(columns=['ID', 'HealthServiceArea', 'AverageIncomeInZipCode'])"
   ]
  },
  {
   "cell_type": "markdown",
   "id": "8012824b",
   "metadata": {},
   "source": [
    "<a id=\"2.2.2\"></a>\n",
    "## 2.2.2 Convert length of stay to 0 and 1\n",
    "***\n",
    "Since the requirement is to predict whether the paintient is stay in the hospital longer than 3 days."
   ]
  },
  {
   "cell_type": "code",
   "execution_count": 8,
   "id": "5bfbdda7",
   "metadata": {},
   "outputs": [],
   "source": [
    "train['LengthOfStay'] = train['LengthOfStay'].apply(lambda x: 1 if x > 3 else 0)"
   ]
  },
  {
   "cell_type": "markdown",
   "id": "53630b7c",
   "metadata": {},
   "source": [
    "<a id=\"2.2.3\"></a>\n",
    "## 2.2.3 Convert Unknown\n",
    "***\n",
    "Since the `Gender` column still has only one values `U`, I do not think it will effect the values so I decided to convert it to `F`."
   ]
  },
  {
   "cell_type": "code",
   "execution_count": 9,
   "id": "4a43ed9c",
   "metadata": {},
   "outputs": [],
   "source": [
    "train.loc[train['Gender'].isin(['U']), 'Gender'] = 'F'\n",
    "test.loc[test['Gender'].isin(['U']), 'Gender'] = 'F'"
   ]
  },
  {
   "cell_type": "markdown",
   "id": "6be5924b",
   "metadata": {},
   "source": [
    "<a id=\"2.2.4\"></a>\n",
    "## 2.2.4 Check column contains\n",
    "***"
   ]
  },
  {
   "cell_type": "markdown",
   "id": "dd973742",
   "metadata": {},
   "source": [
    "> **Sample train Dataset**"
   ]
  },
  {
   "cell_type": "code",
   "execution_count": 15,
   "id": "e0ad4711",
   "metadata": {},
   "outputs": [
    {
     "ename": "KeyError",
     "evalue": "'HealthServiceArea'",
     "output_type": "error",
     "traceback": [
      "\u001b[0;31m---------------------------------------------------------------------------\u001b[0m",
      "\u001b[0;31mKeyError\u001b[0m                                  Traceback (most recent call last)",
      "\u001b[0;32m/opt/anaconda3/lib/python3.8/site-packages/pandas/core/indexes/base.py\u001b[0m in \u001b[0;36mget_loc\u001b[0;34m(self, key, method, tolerance)\u001b[0m\n\u001b[1;32m   3079\u001b[0m             \u001b[0;32mtry\u001b[0m\u001b[0;34m:\u001b[0m\u001b[0;34m\u001b[0m\u001b[0;34m\u001b[0m\u001b[0m\n\u001b[0;32m-> 3080\u001b[0;31m                 \u001b[0;32mreturn\u001b[0m \u001b[0mself\u001b[0m\u001b[0;34m.\u001b[0m\u001b[0m_engine\u001b[0m\u001b[0;34m.\u001b[0m\u001b[0mget_loc\u001b[0m\u001b[0;34m(\u001b[0m\u001b[0mcasted_key\u001b[0m\u001b[0;34m)\u001b[0m\u001b[0;34m\u001b[0m\u001b[0;34m\u001b[0m\u001b[0m\n\u001b[0m\u001b[1;32m   3081\u001b[0m             \u001b[0;32mexcept\u001b[0m \u001b[0mKeyError\u001b[0m \u001b[0;32mas\u001b[0m \u001b[0merr\u001b[0m\u001b[0;34m:\u001b[0m\u001b[0;34m\u001b[0m\u001b[0;34m\u001b[0m\u001b[0m\n",
      "\u001b[0;32mpandas/_libs/index.pyx\u001b[0m in \u001b[0;36mpandas._libs.index.IndexEngine.get_loc\u001b[0;34m()\u001b[0m\n",
      "\u001b[0;32mpandas/_libs/index.pyx\u001b[0m in \u001b[0;36mpandas._libs.index.IndexEngine.get_loc\u001b[0;34m()\u001b[0m\n",
      "\u001b[0;32mpandas/_libs/hashtable_class_helper.pxi\u001b[0m in \u001b[0;36mpandas._libs.hashtable.PyObjectHashTable.get_item\u001b[0;34m()\u001b[0m\n",
      "\u001b[0;32mpandas/_libs/hashtable_class_helper.pxi\u001b[0m in \u001b[0;36mpandas._libs.hashtable.PyObjectHashTable.get_item\u001b[0;34m()\u001b[0m\n",
      "\u001b[0;31mKeyError\u001b[0m: 'HealthServiceArea'",
      "\nThe above exception was the direct cause of the following exception:\n",
      "\u001b[0;31mKeyError\u001b[0m                                  Traceback (most recent call last)",
      "\u001b[0;32m<ipython-input-15-69720ed1f677>\u001b[0m in \u001b[0;36m<module>\u001b[0;34m\u001b[0m\n\u001b[0;32m----> 1\u001b[0;31m \u001b[0mcategories\u001b[0m \u001b[0;34m=\u001b[0m \u001b[0mlist\u001b[0m\u001b[0;34m(\u001b[0m\u001b[0mtrain\u001b[0m\u001b[0;34m[\u001b[0m\u001b[0;34m'HealthServiceArea'\u001b[0m\u001b[0;34m]\u001b[0m\u001b[0;34m.\u001b[0m\u001b[0mvalue_counts\u001b[0m\u001b[0;34m(\u001b[0m\u001b[0;34m)\u001b[0m\u001b[0;34m.\u001b[0m\u001b[0mindex\u001b[0m\u001b[0;34m)\u001b[0m\u001b[0;34m\u001b[0m\u001b[0;34m\u001b[0m\u001b[0m\n\u001b[0m\u001b[1;32m      2\u001b[0m \u001b[0;34m\u001b[0m\u001b[0m\n\u001b[1;32m      3\u001b[0m \u001b[0;32mfor\u001b[0m \u001b[0mx\u001b[0m \u001b[0;32min\u001b[0m \u001b[0mrange\u001b[0m\u001b[0;34m(\u001b[0m\u001b[0mlen\u001b[0m\u001b[0;34m(\u001b[0m\u001b[0mcategories\u001b[0m\u001b[0;34m)\u001b[0m\u001b[0;34m)\u001b[0m\u001b[0;34m:\u001b[0m\u001b[0;34m\u001b[0m\u001b[0;34m\u001b[0m\u001b[0m\n\u001b[1;32m      4\u001b[0m     \u001b[0mprint\u001b[0m \u001b[0;34m(\u001b[0m\u001b[0mcategories\u001b[0m\u001b[0;34m[\u001b[0m\u001b[0mx\u001b[0m\u001b[0;34m]\u001b[0m\u001b[0;34m)\u001b[0m\u001b[0;34m\u001b[0m\u001b[0;34m\u001b[0m\u001b[0m\n",
      "\u001b[0;32m/opt/anaconda3/lib/python3.8/site-packages/pandas/core/frame.py\u001b[0m in \u001b[0;36m__getitem__\u001b[0;34m(self, key)\u001b[0m\n\u001b[1;32m   3022\u001b[0m             \u001b[0;32mif\u001b[0m \u001b[0mself\u001b[0m\u001b[0;34m.\u001b[0m\u001b[0mcolumns\u001b[0m\u001b[0;34m.\u001b[0m\u001b[0mnlevels\u001b[0m \u001b[0;34m>\u001b[0m \u001b[0;36m1\u001b[0m\u001b[0;34m:\u001b[0m\u001b[0;34m\u001b[0m\u001b[0;34m\u001b[0m\u001b[0m\n\u001b[1;32m   3023\u001b[0m                 \u001b[0;32mreturn\u001b[0m \u001b[0mself\u001b[0m\u001b[0;34m.\u001b[0m\u001b[0m_getitem_multilevel\u001b[0m\u001b[0;34m(\u001b[0m\u001b[0mkey\u001b[0m\u001b[0;34m)\u001b[0m\u001b[0;34m\u001b[0m\u001b[0;34m\u001b[0m\u001b[0m\n\u001b[0;32m-> 3024\u001b[0;31m             \u001b[0mindexer\u001b[0m \u001b[0;34m=\u001b[0m \u001b[0mself\u001b[0m\u001b[0;34m.\u001b[0m\u001b[0mcolumns\u001b[0m\u001b[0;34m.\u001b[0m\u001b[0mget_loc\u001b[0m\u001b[0;34m(\u001b[0m\u001b[0mkey\u001b[0m\u001b[0;34m)\u001b[0m\u001b[0;34m\u001b[0m\u001b[0;34m\u001b[0m\u001b[0m\n\u001b[0m\u001b[1;32m   3025\u001b[0m             \u001b[0;32mif\u001b[0m \u001b[0mis_integer\u001b[0m\u001b[0;34m(\u001b[0m\u001b[0mindexer\u001b[0m\u001b[0;34m)\u001b[0m\u001b[0;34m:\u001b[0m\u001b[0;34m\u001b[0m\u001b[0;34m\u001b[0m\u001b[0m\n\u001b[1;32m   3026\u001b[0m                 \u001b[0mindexer\u001b[0m \u001b[0;34m=\u001b[0m \u001b[0;34m[\u001b[0m\u001b[0mindexer\u001b[0m\u001b[0;34m]\u001b[0m\u001b[0;34m\u001b[0m\u001b[0;34m\u001b[0m\u001b[0m\n",
      "\u001b[0;32m/opt/anaconda3/lib/python3.8/site-packages/pandas/core/indexes/base.py\u001b[0m in \u001b[0;36mget_loc\u001b[0;34m(self, key, method, tolerance)\u001b[0m\n\u001b[1;32m   3080\u001b[0m                 \u001b[0;32mreturn\u001b[0m \u001b[0mself\u001b[0m\u001b[0;34m.\u001b[0m\u001b[0m_engine\u001b[0m\u001b[0;34m.\u001b[0m\u001b[0mget_loc\u001b[0m\u001b[0;34m(\u001b[0m\u001b[0mcasted_key\u001b[0m\u001b[0;34m)\u001b[0m\u001b[0;34m\u001b[0m\u001b[0;34m\u001b[0m\u001b[0m\n\u001b[1;32m   3081\u001b[0m             \u001b[0;32mexcept\u001b[0m \u001b[0mKeyError\u001b[0m \u001b[0;32mas\u001b[0m \u001b[0merr\u001b[0m\u001b[0;34m:\u001b[0m\u001b[0;34m\u001b[0m\u001b[0;34m\u001b[0m\u001b[0m\n\u001b[0;32m-> 3082\u001b[0;31m                 \u001b[0;32mraise\u001b[0m \u001b[0mKeyError\u001b[0m\u001b[0;34m(\u001b[0m\u001b[0mkey\u001b[0m\u001b[0;34m)\u001b[0m \u001b[0;32mfrom\u001b[0m \u001b[0merr\u001b[0m\u001b[0;34m\u001b[0m\u001b[0;34m\u001b[0m\u001b[0m\n\u001b[0m\u001b[1;32m   3083\u001b[0m \u001b[0;34m\u001b[0m\u001b[0m\n\u001b[1;32m   3084\u001b[0m         \u001b[0;32mif\u001b[0m \u001b[0mtolerance\u001b[0m \u001b[0;32mis\u001b[0m \u001b[0;32mnot\u001b[0m \u001b[0;32mNone\u001b[0m\u001b[0;34m:\u001b[0m\u001b[0;34m\u001b[0m\u001b[0;34m\u001b[0m\u001b[0m\n",
      "\u001b[0;31mKeyError\u001b[0m: 'HealthServiceArea'"
     ]
    }
   ],
   "source": [
    "categories = list(train['HealthServiceArea'].value_counts().index)\n",
    "\n",
    "for x in range(len(categories)):\n",
    "    print (categories[x])"
   ]
  },
  {
   "cell_type": "code",
   "execution_count": 12,
   "id": "8966182e",
   "metadata": {},
   "outputs": [
    {
     "name": "stdout",
     "output_type": "stream",
     "text": [
      "White\n",
      "Other Race\n",
      "Black/African American\n",
      "Multi-racial\n"
     ]
    }
   ],
   "source": [
    "categories = list(train['Race'].value_counts().index)\n",
    "\n",
    "for x in range(len(categories)):\n",
    "    print (categories[x])"
   ]
  },
  {
   "cell_type": "code",
   "execution_count": 13,
   "id": "bc4ece32",
   "metadata": {},
   "outputs": [
    {
     "name": "stdout",
     "output_type": "stream",
     "text": [
      "Newborn\n",
      "Emergency\n",
      "Urgent\n",
      "Elective\n"
     ]
    }
   ],
   "source": [
    "categories = list(train['TypeOfAdmission'].value_counts().index)\n",
    "\n",
    "for x in range(len(categories)):\n",
    "    print (categories[x])"
   ]
  },
  {
   "cell_type": "code",
   "execution_count": 14,
   "id": "48c81951",
   "metadata": {},
   "outputs": [
    {
     "name": "stdout",
     "output_type": "stream",
     "text": [
      "228\n",
      "115\n",
      "0\n",
      "220\n",
      "231\n",
      "-1\n",
      "216\n"
     ]
    }
   ],
   "source": [
    "categories = list(train['CCSProcedureCode'].value_counts().index)\n",
    "\n",
    "for x in range(len(categories)):\n",
    "    print (categories[x])"
   ]
  },
  {
   "cell_type": "markdown",
   "id": "0d4294f5",
   "metadata": {},
   "source": [
    "### ------> OBSERVATION\n",
    "*****\n",
    "## Some Domain Knowledge:\n",
    "According to an official website of the Department of Health & Human Services, developed at the Agency for Healthcare Research and Quality (AHRQ), the Clinical Classifications Software (CCS) is a tool for clustering patient diagnoses and procedures into a manageable number of clinically meaningful categories. CCS offers researchers the ability to group conditions and procedures without having to sort through thousands of codes. This \"clinical grouper\" makes it easier to quickly understand patterns of diagnoses and procedures so that health plans, policy makers, and researchers can analyze costs, utilization, and outcomes associated with particular illnesses and procedures.\n",
    "\n",
    "> There is a value `-1` which is not belong to the CCSProcedureCode list in the "
   ]
  },
  {
   "cell_type": "code",
   "execution_count": null,
   "id": "bd64b5ca",
   "metadata": {},
   "outputs": [],
   "source": []
  },
  {
   "cell_type": "code",
   "execution_count": null,
   "id": "ac8c453f",
   "metadata": {},
   "outputs": [],
   "source": []
  },
  {
   "cell_type": "code",
   "execution_count": null,
   "id": "637207ee",
   "metadata": {},
   "outputs": [],
   "source": []
  },
  {
   "cell_type": "code",
   "execution_count": null,
   "id": "f78b7085",
   "metadata": {},
   "outputs": [],
   "source": []
  },
  {
   "cell_type": "code",
   "execution_count": null,
   "id": "5ca85832",
   "metadata": {},
   "outputs": [],
   "source": []
  },
  {
   "cell_type": "code",
   "execution_count": null,
   "id": "3e17b5ca",
   "metadata": {},
   "outputs": [],
   "source": []
  },
  {
   "cell_type": "code",
   "execution_count": 11,
   "id": "cff187a0",
   "metadata": {},
   "outputs": [
    {
     "ename": "NameError",
     "evalue": "name 'y' is not defined",
     "output_type": "error",
     "traceback": [
      "\u001b[0;31m---------------------------------------------------------------------------\u001b[0m",
      "\u001b[0;31mNameError\u001b[0m                                 Traceback (most recent call last)",
      "\u001b[0;32m<ipython-input-11-9063a9f0e032>\u001b[0m in \u001b[0;36m<module>\u001b[0;34m\u001b[0m\n\u001b[0;32m----> 1\u001b[0;31m \u001b[0my\u001b[0m\u001b[0;34m\u001b[0m\u001b[0;34m\u001b[0m\u001b[0m\n\u001b[0m",
      "\u001b[0;31mNameError\u001b[0m: name 'y' is not defined"
     ]
    }
   ],
   "source": [
    "y"
   ]
  },
  {
   "cell_type": "markdown",
   "id": "763a3816",
   "metadata": {},
   "source": [
    "<a id=\"2.3\"></a>\n",
    "# 🔍 2.3 Check missing values:\n",
    "Missing values can cause a lot of unexpected problems such as not reducing the power of a model, but also negatively affect the performance of the studies and analysis of that data. Hence, it is important to deal with missing data. First step is to check the number of missing values of each column and fill in with the appropriate values. "
   ]
  },
  {
   "cell_type": "markdown",
   "id": "acc10553",
   "metadata": {},
   "source": [
    "> **Sample train Dataset**"
   ]
  },
  {
   "cell_type": "code",
   "execution_count": null,
   "id": "9f4feb65",
   "metadata": {},
   "outputs": [],
   "source": [
    "def missing_percentage(df):\n",
    "    \"\"\"This function takes a DataFrame(df) as input and returns two columns, total missing values and total missing values percentage\"\"\"\n",
    "    total = df.isnull().sum().sort_values(ascending=False)[df.isnull().sum().sort_values(ascending=False) != 0]\n",
    "    percent = round(df.isnull().sum().sort_values(ascending=False) / len(df) * 100, 2)[\n",
    "        round(df.isnull().sum().sort_values(ascending=False) / len(df) * 100, 2) != 0]\n",
    "    return pd.concat([total, percent], axis=1, keys=['Total', 'Percent'])\n",
    "\n",
    "# display missing values in descending\n",
    "print(\"Missing values in the dataframe in descending: \\n\", missing_percentage(train).sort_values(by='Total', ascending=False))\n",
    "\n",
    "# visualize where the missing values are located\n",
    "msno.matrix(train, color=(255 / 255, 192 / 255, 203 / 255))\n",
    "pink_patch = mpatches.Patch(color='pink', label='present value')\n",
    "white_patch = mpatches.Patch(color='white', label='absent value')\n",
    "plt.legend(handles=[pink_patch, white_patch])\n",
    "plt.show()"
   ]
  },
  {
   "cell_type": "markdown",
   "id": "d11e9fc5",
   "metadata": {},
   "source": [
    "> **Sample test Dataset**"
   ]
  },
  {
   "cell_type": "code",
   "execution_count": null,
   "id": "25a837f0",
   "metadata": {},
   "outputs": [],
   "source": [
    "def missing_percentage(df):\n",
    "    \"\"\"This function takes a DataFrame(df) as input and returns two columns, total missing values and total missing values percentage\"\"\"\n",
    "    total = df.isnull().sum().sort_values(ascending=False)[df.isnull().sum().sort_values(ascending=False) != 0]\n",
    "    percent = round(df.isnull().sum().sort_values(ascending=False) / len(df) * 100, 2)[\n",
    "        round(df.isnull().sum().sort_values(ascending=False) / len(df) * 100, 2) != 0]\n",
    "    return pd.concat([total, percent], axis=1, keys=['Total', 'Percent'])\n",
    "\n",
    "# display missing values in descending\n",
    "print(\"Missing values in the dataframe in descending: \\n\", missing_percentage(test).sort_values(by='Total', ascending=False))\n",
    "\n",
    "# visualize where the missing values are located\n",
    "msno.matrix(test, color=(255 / 255, 192 / 255, 203 / 255))\n",
    "pink_patch = mpatches.Patch(color='pink', label='present value')\n",
    "white_patch = mpatches.Patch(color='white', label='absent value')\n",
    "plt.legend(handles=[pink_patch, white_patch])\n",
    "plt.show()"
   ]
  },
  {
   "cell_type": "markdown",
   "id": "5ce920a2",
   "metadata": {},
   "source": [
    "### ------> OBSERVATION\n",
    "*****\n",
    "Suprisingly, there is no missing data in both of the dataset."
   ]
  },
  {
   "cell_type": "markdown",
   "id": "53121691",
   "metadata": {},
   "source": [
    "<a id=\"2.4\"></a>\n",
    "# 🦄 2.4 Data type\n",
    "***"
   ]
  },
  {
   "cell_type": "markdown",
   "id": "1db2ebbc",
   "metadata": {},
   "source": [
    "> **Sample train Dataset**"
   ]
  },
  {
   "cell_type": "code",
   "execution_count": null,
   "id": "6caab70f",
   "metadata": {},
   "outputs": [],
   "source": [
    "train['TypeOfAdmission'] = train['TypeOfAdmission'].astype('string')\n",
    "train['Race'] = train['Race'].astype('string')\n",
    "train['PaymentTypology'] = train['PaymentTypology'].astype('string')\n",
    "train['Gender'] = train['Gender'].astype('string')\n",
    "train['EmergencyDepartmentIndicator'] = train['EmergencyDepartmentIndicator'].astype('string')\n",
    "train['CCSProcedureCode'] = train['CCSProcedureCode'].astype('int')\n",
    "train['APRSeverityOfIllnessCode'] = train['APRSeverityOfIllnessCode'].astype('int')\n",
    "train['LengthOfStay'] = train['LengthOfStay'].astype('int')\n",
    "train['BirthWeight'] = train['BirthWeight'].astype('int')\n",
    "train['AverageCostInCounty'] = train['AverageCostInCounty'].astype('int')\n",
    "train['AverageChargesInCounty'] = train['AverageChargesInCounty'].astype('int')\n",
    "train['AverageCostInFacility'] = train['AverageCostInFacility'].astype('int')\n",
    "train['AverageChargesInFacility'] = train['AverageChargesInFacility'].astype('int')\n",
    "train['AverageIncomeInZipCode'] = train['AverageIncomeInZipCode'].astype('int')"
   ]
  },
  {
   "cell_type": "markdown",
   "id": "8ec899f4",
   "metadata": {},
   "source": [
    "> **Sample test Dataset**"
   ]
  },
  {
   "cell_type": "code",
   "execution_count": null,
   "id": "51c30ae6",
   "metadata": {},
   "outputs": [],
   "source": [
    "test['TypeOfAdmission'] = test['TypeOfAdmission'].astype('string')\n",
    "test['Race'] = test['Race'].astype('string')\n",
    "test['PaymentTypology'] = test['PaymentTypology'].astype('string')\n",
    "test['Gender'] = test['Gender'].astype('string')\n",
    "test['EmergencyDepartmentIndicator'] = test['EmergencyDepartmentIndicator'].astype('string')\n",
    "test['CCSProcedureCode'] = test['CCSProcedureCode'].astype('int')\n",
    "test['APRSeverityOfIllnessCode'] = test['APRSeverityOfIllnessCode'].astype('int')\n",
    "test['BirthWeight'] = test['BirthWeight'].astype('int')\n",
    "test['AverageCostInCounty'] = test['AverageCostInCounty'].astype('int')\n",
    "test['AverageChargesInCounty'] = test['AverageChargesInCounty'].astype('int')\n",
    "test['AverageCostInFacility'] = test['AverageCostInFacility'].astype('int')\n",
    "test['AverageChargesInFacility'] = test['AverageChargesInFacility'].astype('int')\n",
    "test['AverageIncomeInZipCode'] = test['AverageIncomeInZipCode'].astype('int')"
   ]
  },
  {
   "cell_type": "markdown",
   "id": "ce258ee9",
   "metadata": {},
   "source": [
    "<a id=\"2.5\"></a>\n",
    "# 💭 2.5 Upper Case the content\n",
    "In this section we will convert all the string value in the column to uppercase for further processing and keep all the string uniformly format. This will improve the analysis of the data, and also easier to perform any function related to the string. "
   ]
  },
  {
   "cell_type": "markdown",
   "id": "2ec17f40",
   "metadata": {},
   "source": [
    "> **Sample train Dataset**"
   ]
  },
  {
   "cell_type": "code",
   "execution_count": null,
   "id": "330bd96e",
   "metadata": {},
   "outputs": [],
   "source": [
    "# Cast all values inside the dataframe (except the columns' name) into upper case.\n",
    "train = train.applymap(lambda s: s.upper() if type(s) == str else s)\n",
    "train.head(3)"
   ]
  },
  {
   "cell_type": "markdown",
   "id": "d27c94d5",
   "metadata": {},
   "source": [
    "> **Sample test Dataset**"
   ]
  },
  {
   "cell_type": "code",
   "execution_count": null,
   "id": "5c00641f",
   "metadata": {},
   "outputs": [],
   "source": [
    "# Cast all values inside the dataframe (except the columns' name) into upper case.\n",
    "test = test.applymap(lambda s: s.upper() if type(s) == str else s)\n",
    "test.head(3)"
   ]
  },
  {
   "cell_type": "markdown",
   "id": "1aef9257",
   "metadata": {},
   "source": [
    "<a id=\"2.6\"></a>\n",
    "# 📚 2.6 Extra-whitespaces:\n",
    "***\n",
    "There are some time maybe an extra-whitespaces in the database, which results in comparison failures, NaN Value, and greater size. First of all, extra-whitespaces cause string with and without it to not be the same. For instance, \"ABC\" != \" ABC\", these two strings are not equal, and that mistake cannot be noticed straightforwardly since the difference is inconsiderable. Nevertheless, the computer cannot understand that mistake. Secondly, the extra-whitespaces can be record as NaN values in pandas, which results in unexpected result. Last but not least, the whitespaces can increase the size of the database so that they can overflow the limited size. So that data should be checked with extra-whitespaces carefully."
   ]
  },
  {
   "cell_type": "code",
   "execution_count": null,
   "id": "5f11076b",
   "metadata": {},
   "outputs": [],
   "source": [
    "def whitespace_remover(df):\n",
    "    \"\"\"\n",
    "    The function will remove extra leading and trailing whitespace from the data.\n",
    "    \"\"\"\n",
    "    # iterating over the columns\n",
    "    for i in df.columns:\n",
    "        # checking datatype of each columns\n",
    "        if df[i].dtype == 'object' or df[i].dtype == 'str':\n",
    "            # applying strip function on column\n",
    "            df[i] = df[i].map(str.strip)\n",
    "        else:\n",
    "            # if condition is False then it will do nothing.\n",
    "            pass\n",
    "\n",
    "# remove all the extra whitespace\n",
    "whitespace_remover(train)\n",
    "whitespace_remover(test)"
   ]
  },
  {
   "cell_type": "markdown",
   "id": "1ea576fc",
   "metadata": {},
   "source": [
    "<a id=\"2.7\"></a>\n",
    "# 📊 2.7 Descriptive statistics for Central Tendency"
   ]
  },
  {
   "cell_type": "markdown",
   "id": "dad01ca2",
   "metadata": {},
   "source": [
    "> **Sample train Dataset**"
   ]
  },
  {
   "cell_type": "code",
   "execution_count": null,
   "id": "b92f8dc4",
   "metadata": {},
   "outputs": [],
   "source": [
    "# see the static of all numerical column\n",
    "train.describe().T"
   ]
  },
  {
   "cell_type": "code",
   "execution_count": null,
   "id": "08617c7f",
   "metadata": {},
   "outputs": [],
   "source": [
    "plt.rcParams['figure.figsize'] = [20, 15]\n",
    "# plot the boxplot to see the outlier of each numerical column\n",
    "sns.boxplot(data=train,orient=\"h\")"
   ]
  },
  {
   "cell_type": "markdown",
   "id": "662714e0",
   "metadata": {},
   "source": [
    "### ---------> OBSERVATION\n",
    "> For all numerical columns, I see some outlier values in `AverageCostInFacility` and `BirthWeight`. Let's investigate them further to see if they are real outliers or not using statistical techniques."
   ]
  },
  {
   "cell_type": "markdown",
   "id": "0aad3ae3",
   "metadata": {},
   "source": [
    "> **Sample test Dataset**"
   ]
  },
  {
   "cell_type": "code",
   "execution_count": null,
   "id": "432a53c9",
   "metadata": {},
   "outputs": [],
   "source": [
    "# see the static of all numerical column\n",
    "train.describe().T"
   ]
  },
  {
   "cell_type": "code",
   "execution_count": null,
   "id": "62543086",
   "metadata": {},
   "outputs": [],
   "source": [
    "# plot the boxplot to see the outlier of each numerical column\n",
    "sns.boxplot(data=test,orient=\"h\")\n",
    "plt.rcParams['figure.figsize'] = [20, 15]"
   ]
  },
  {
   "cell_type": "markdown",
   "id": "6492874e",
   "metadata": {},
   "source": [
    "### ---------> OBSERVATION\n",
    "> For all numerical columns, I see some outlier values in `BirthWeight`. Let's investigate them further to see if they are real outliers or not using statistical techniques."
   ]
  },
  {
   "cell_type": "markdown",
   "id": "c4e4e587",
   "metadata": {},
   "source": [
    "<a id=\"2.8\"></a>\n",
    "# 💢 2.8 Detect Outlier"
   ]
  },
  {
   "cell_type": "code",
   "execution_count": null,
   "id": "49e251ca",
   "metadata": {},
   "outputs": [],
   "source": [
    "train.boxplot('BirthWeight')"
   ]
  },
  {
   "cell_type": "markdown",
   "id": "89e4246f",
   "metadata": {},
   "source": [
    "### ---------> OBSERVATION\n",
    "****\n",
    "The newborn child who weight nearly and more than 7000 seem to be rare but it's still acceptable"
   ]
  },
  {
   "cell_type": "markdown",
   "id": "f0d2ac67",
   "metadata": {},
   "source": [
    "<a id=\"2.9\"></a>\n",
    "# 📂 2.9 Save the Intermediate data\n",
    "***\n",
    "After the cleaning step, all data is saved to a csv file for visualisation step later in dash."
   ]
  },
  {
   "cell_type": "code",
   "execution_count": null,
   "id": "5601497b",
   "metadata": {},
   "outputs": [],
   "source": [
    "train.to_csv(\"Data/train_cleaned.csv\", encoding='utf-8')\n",
    "test.to_csv(\"Data/test_cleaned.csv\", encoding='utf-8')"
   ]
  },
  {
   "cell_type": "markdown",
   "id": "c4222a99",
   "metadata": {},
   "source": [
    "<a id=\"3\"></a>\n",
    "<h1 style=\"color:#ffc0cb;font-size:40px;font-family:Georgia;text-align:center;\"><strong> 📊 3. Data exploration (EDA)</strong></h1>\n",
    "\n",
    "**Assumptions:**\n",
    "- **LengthOfStay**: The number of people who stay more than 3 days in the hospital is higher than the people who stay less than 3 days\n",
    "- **Gender**: More female survived than male, and the number of female stay in the hospital more than 3 days is higher than male \n",
    "- **APRSeverityOfIllnessCode**: the number of patient having the extreme severity is higher.\n",
    "- **AverageCostInCounty**: the people who stay more than 3 days in the hospital have to pay a higher cost.\n",
    "- **Race**: the number of medical cost the Black/African American have to pay higher than others, and the White people pay the lowest cost. Hence, the number of White patient is the highest.\n",
    "\n",
    "Now, let's see how the features are related to each other by creating some visualizations. "
   ]
  },
  {
   "cell_type": "markdown",
   "id": "5d7c1ece",
   "metadata": {},
   "source": [
    "<a id=\"3.1\"></a>\n",
    "# 3.1 Overall look on target variable"
   ]
  },
  {
   "cell_type": "code",
   "execution_count": null,
   "id": "ea13cba1",
   "metadata": {},
   "outputs": [],
   "source": [
    "# sns.displot(train, x=\"Survived\", hue=\"Pclass\", kind=\"kde\", fill=True)\n",
    "plot = sns.displot(train, x=\"LengthOfStay\", kind=\"kde\", fill=True, color='blue', height= 14)\n",
    "\n",
    "\n",
    "plot.fig.suptitle(\"Distribution of Survive\", fontsize=25, y=1.08, fontweight = 'bold')\n",
    "plot.set_xlabels(\"LengthOfStay\", fontsize = 20, fontweight = 'bold' )\n",
    "plot.set_ylabels(\"Density\", fontsize = 20, fontweight = 'bold')"
   ]
  },
  {
   "cell_type": "markdown",
   "id": "49598852",
   "metadata": {},
   "source": [
    "### ---------> OBSERVATION\n",
    "***\n",
    "- It is a bionormal distribution\n",
    "- More people stay more than 3 days than people stay in the hospital less than 3 days."
   ]
  },
  {
   "cell_type": "markdown",
   "id": "017932d2",
   "metadata": {},
   "source": [
    "## Proportion of length of stay"
   ]
  },
  {
   "cell_type": "code",
   "execution_count": null,
   "id": "4d7e0600",
   "metadata": {},
   "outputs": [],
   "source": [
    "# Pie chart\n",
    "labels = ['Stay more than 3 days', 'Stay less than 3 days']\n",
    "#colors\n",
    "colors = ['#94B3FD', '#F9C5D5']\n",
    "ax = plt.pie(train['LengthOfStay'].value_counts(), labels=labels, labeldistance=1.15, colors=colors, autopct='%1.1f%%', textprops={'fontsize': 16});\n",
    "plt.title('Proportion of length of stay', fontsize=25, fontweight = 'bold')\n",
    "plt.rcParams['figure.figsize'] = [20, 15]\n",
    "plt.show()"
   ]
  },
  {
   "cell_type": "markdown",
   "id": "b55c489b",
   "metadata": {},
   "source": [
    "### ---------> OBSERVATION\n",
    "***\n",
    "This pie plot is chosen to demonstrates the proportion of people stay less than 3 days vs people stay more than 3 days. Overall, stay in the hospital is the most common options for pantents, while just only nearly 17 percent of patient choose to stay less than 3 days. The number people stay more than 3 days is nearly 8 time higher than those people who stay less than 3 days. Consequently, the hospital have to reserve their rooms more carefully in order to organise more bed for their patients."
   ]
  },
  {
   "cell_type": "markdown",
   "id": "8e4edd3d",
   "metadata": {},
   "source": [
    "<a id=\"3.2\"></a>\n",
    "# 3.2 Frequency of each corresponiding Target variable type\n",
    "****"
   ]
  },
  {
   "cell_type": "markdown",
   "id": "49fd74a9",
   "metadata": {},
   "source": [
    "## Patient Gender Distribution - Stay less vs more than 3 days"
   ]
  },
  {
   "cell_type": "code",
   "execution_count": null,
   "id": "ce208daf",
   "metadata": {},
   "outputs": [],
   "source": [
    "pal = {1:\"pink\", 0:\"blue\"}\n",
    "sns.set(style=\"darkgrid\")\n",
    "plt.subplots(figsize = (15,8))\n",
    "ax = sns.countplot(x = \"Gender\", \n",
    "                   hue=\"LengthOfStay\",\n",
    "                   data = train, \n",
    "                   linewidth=4, \n",
    "                   palette = pal\n",
    ")\n",
    "\n",
    "## Fixing title, xlabel and ylabel\n",
    "plt.title(\"Patient Gender Distribution - Stay less vs more than 3 days\", fontsize = 20, fontweight = 'bold', pad=40)\n",
    "plt.xlabel(\"Gender\", fontsize = 20, fontweight = 'bold');\n",
    "plt.ylabel(\"Number of Patient\", fontsize = 20, fontweight = 'bold')\n",
    "\n",
    "## Fixing xticks\n",
    "#labels = ['Female', 'Male']\n",
    "#plt.xticks(sorted(train.Sex.unique()), labels)\n",
    "\n",
    "## Fixing legends\n",
    "leg = ax.get_legend()\n",
    "leg.set_title(\"Length Of Stay\")\n",
    "legs = leg.texts\n",
    "legs[0].set_text(\"Stay more than 3 days\")\n",
    "legs[1].set_text(\"Stay less than 3 days\")\n",
    "plt.show()\n",
    "plt.rcParams['figure.figsize'] = [20, 15]"
   ]
  },
  {
   "cell_type": "markdown",
   "id": "563064f1",
   "metadata": {},
   "source": [
    "### ---------> OBSERVATION\n",
    "***\n",
    "This bar chart is chosen since it can compare the magnitude between the number of people who stay more than 3 days and stay less than 3 days in both genders male and female. Overall, the number of gender is approximately equal. Hence, my assumption there are more female than male is incorrect"
   ]
  },
  {
   "cell_type": "markdown",
   "id": "e8de5552",
   "metadata": {},
   "source": [
    "## APR Severity Of Illness Code Distribution - Stay less vs more than 3 days"
   ]
  },
  {
   "cell_type": "code",
   "execution_count": null,
   "id": "1be2955f",
   "metadata": {},
   "outputs": [],
   "source": [
    "sns.set(style=\"darkgrid\")\n",
    "plt.subplots(figsize = (15,8))\n",
    "ax = sns.countplot(x = \"APRSeverityOfIllnessCode\", \n",
    "                   hue=\"LengthOfStay\",\n",
    "                   data = train, \n",
    "                   linewidth=4)\n",
    "\n",
    "## Fixing title, xlabel and ylabel\n",
    "plt.title(\"APR Severity Of Illness Code Distribution - Stay less vs more than 3 days\", fontsize = 20, fontweight = 'bold', pad=40)\n",
    "plt.xlabel(\"Severity Of Illness\", fontsize = 20, fontweight = 'bold');\n",
    "plt.ylabel(\"Number of Patient\", fontsize = 20, fontweight = 'bold')\n",
    "\n",
    "## Fixing xticks\n",
    "#labels = ['Female', 'Male']\n",
    "#plt.xticks(sorted(train.Sex.unique()), labels)\n",
    "\n",
    "## Fixing legends\n",
    "leg = ax.get_legend()\n",
    "leg.set_title(\"Length Of Stay\")\n",
    "legs = leg.texts\n",
    "legs[0].set_text(\"Stay more than 3 days\")\n",
    "legs[1].set_text(\"Stay less than 3 days\")\n",
    "plt.show()\n",
    "plt.rcParams['figure.figsize'] = [20, 15]"
   ]
  },
  {
   "cell_type": "markdown",
   "id": "0e40242e",
   "metadata": {},
   "source": [
    "### ---------> OBSERVATION\n",
    "***\n",
    "Suprisingly, most of people just have the minor illness, however, they also desire to stay in the hospital more than 3 days. Because of that, my assumption for the `APRSeverityOfIllnessCode` is incorrect since the the number of patient having the extreme severity is lower, nevertheless, they still stay more than 3 days in the hospital."
   ]
  },
  {
   "cell_type": "code",
   "execution_count": null,
   "id": "4da2b38d",
   "metadata": {},
   "outputs": [],
   "source": []
  },
  {
   "cell_type": "code",
   "execution_count": null,
   "id": "fb6414eb",
   "metadata": {},
   "outputs": [],
   "source": [
    "## factor plot\n",
    "sns.factorplot(x = \"CCSProcedureCode\", y = \"LengthOfStay\", data = train,kind = \"point\",size = 8)\n",
    "plt.title(\"Factorplot of LengthOfStay LengthOfStay\", fontsize = 25)\n",
    "plt.subplots_adjust(top=0.85)"
   ]
  },
  {
   "cell_type": "code",
   "execution_count": null,
   "id": "ec47561b",
   "metadata": {},
   "outputs": [],
   "source": []
  },
  {
   "cell_type": "markdown",
   "id": "b5624704",
   "metadata": {},
   "source": [
    "## Race Distribution - Stay less vs more than 3 days"
   ]
  },
  {
   "cell_type": "code",
   "execution_count": null,
   "id": "e9f983e3",
   "metadata": {},
   "outputs": [],
   "source": [
    "sns.set(style=\"darkgrid\")\n",
    "plt.subplots(figsize = (15,8))\n",
    "ax = sns.countplot(x = \"Race\", \n",
    "                   hue=\"LengthOfStay\",\n",
    "                   data = train, \n",
    "                   linewidth=4)\n",
    "\n",
    "## Fixing title, xlabel and ylabel\n",
    "plt.title(\"Race Distribution - Stay less vs more than 3 days\", fontsize = 20, fontweight = 'bold', pad=40)\n",
    "plt.xlabel(\"Race\", fontsize = 20, fontweight = 'bold');\n",
    "plt.ylabel(\"Number of Patient\", fontsize = 20, fontweight = 'bold')\n",
    "\n",
    "## Fixing xticks\n",
    "#labels = ['Female', 'Male']\n",
    "#plt.xticks(sorted(train.Sex.unique()), labels)\n",
    "\n",
    "## Fixing legends\n",
    "leg = ax.get_legend()\n",
    "leg.set_title(\"Length Of Stay\")\n",
    "legs = leg.texts\n",
    "legs[0].set_text(\"Stay more than 3 days\")\n",
    "legs[1].set_text(\"Stay less than 3 days\")\n",
    "plt.show()\n",
    "plt.rcParams['figure.figsize'] = [20, 15]"
   ]
  },
  {
   "cell_type": "markdown",
   "id": "75c5c5e7",
   "metadata": {},
   "source": [
    "### ---------> OBSERVATION\n",
    "***\n",
    "As we expected"
   ]
  },
  {
   "cell_type": "markdown",
   "id": "bd33965a",
   "metadata": {},
   "source": [
    "## Medical Cost of each LengthOfStay in each Races"
   ]
  },
  {
   "cell_type": "code",
   "execution_count": null,
   "id": "0917bde3",
   "metadata": {},
   "outputs": [],
   "source": [
    "sns.set(style=\"darkgrid\")\n",
    "\n",
    "plot = sns.catplot(data=train, kind=\"bar\", x=\"LengthOfStay\", y=\"AverageCostInCounty\",  hue=\"Race\", height = 10)\n",
    "\n",
    "plot.fig.suptitle(\"Medical Cost of each LengthOfStay in each Race\", fontsize=25, y=1.08, fontweight = 'bold')\n",
    "plot.set_xlabels(\"Length Of Stay\", fontsize = 20, fontweight = 'bold' )\n",
    "plot.set_ylabels(\"Medical Costy\", fontsize = 20, fontweight = 'bold')\n",
    "plt.rcParams['figure.figsize'] = [20, 15]"
   ]
  },
  {
   "cell_type": "code",
   "execution_count": null,
   "id": "8efdb605",
   "metadata": {},
   "outputs": [],
   "source": []
  },
  {
   "cell_type": "markdown",
   "id": "c27aabe8",
   "metadata": {},
   "source": [
    "## Patient Severity of illness Distribution - Stay less vs more 3 days"
   ]
  },
  {
   "cell_type": "code",
   "execution_count": null,
   "id": "8df90b9b",
   "metadata": {},
   "outputs": [],
   "source": [
    "# Kernel Density Plot\n",
    "fig = plt.figure(figsize=(20,15),)\n",
    "## I have included to different ways to code a plot below, choose the one that suites you. \n",
    "ax=sns.kdeplot(train.APRSeverityOfIllnessCode[train.LengthOfStay == 0] , \n",
    "               color='pink',\n",
    "               shade=True,\n",
    "               label='Stay more than 3 days')\n",
    "ax=sns.kdeplot(train.loc[(train['LengthOfStay'] == 1),'APRSeverityOfIllnessCode'] , \n",
    "               color='g',\n",
    "               shade=True, \n",
    "               label='Stay less than 3 days', \n",
    "              )\n",
    "plt.title('Patient Severity of illness Distribution - Stay less vs more 3 days', fontsize = 25, fontweight = 'bold', pad = 40)\n",
    "plt.ylabel(\"Frequency of Passenger\", fontsize = 20, fontweight = 'bold', labelpad = 20)\n",
    "plt.xlabel(\"Severity of illness\", fontsize = 20, fontweight = 'bold',labelpad =20)\n",
    "## Converting xticks into words for better understanding\n",
    "labels = ['Minor', 'Moderate', 'Major', 'Extreme']\n",
    "\n",
    "plt.xticks(sorted(train.APRSeverityOfIllnessCode.unique()), labels);"
   ]
  },
  {
   "cell_type": "markdown",
   "id": "cd59e2fb",
   "metadata": {},
   "source": [
    "### ---------> OBSERVATION\n",
    "***\n",
    "bla bla bla  "
   ]
  },
  {
   "cell_type": "markdown",
   "id": "51212670",
   "metadata": {},
   "source": [
    "## Average hospitalization Cost Distribution Stay more vs less than 3 days"
   ]
  },
  {
   "cell_type": "code",
   "execution_count": null,
   "id": "16bbc84b",
   "metadata": {},
   "outputs": [],
   "source": [
    "# Kernel Density Plot\n",
    "fig = plt.figure(figsize=(15,8),)\n",
    "ax=sns.kdeplot(train.loc[(train['LengthOfStay'] == 0),'AverageCostInCounty'] , color='gray',shade=True,label='not survived')\n",
    "ax=sns.kdeplot(train.loc[(train['LengthOfStay'] == 1),'AverageCostInCounty'] , color='g',shade=True, label='survived')\n",
    "plt.title('Average hospitalization Cost Distribution Stay more vs less than 3 days', fontsize = 25, pad = 40)\n",
    "plt.ylabel(\"Frequency of Passenger\", fontsize = 15, labelpad = 20)\n",
    "plt.xlabel(\"Fare\", fontsize = 15, labelpad = 20);"
   ]
  },
  {
   "cell_type": "markdown",
   "id": "9d4e8dd1",
   "metadata": {},
   "source": [
    "### ---------> OBSERVATION\n",
    "***\n",
    "This graph demonstrates the relationship between Fare and Survived. The remarkable growth in the plot the Fare which is under 100 dollar represents that most of the passengers who bought the ticket within that range were not survived. For the Fare is in the range from 100 to 200, the green shade is larger than the gray shade, so that it can be assumed that the higher the Fare that people pay, the higher chance those people can have to be survived. When fare is approximately more than 280 dollars, there is no gray shade which means, either everyone passed that fare point survived or maybe there is an outlier that clouds our judgment. Let's check..."
   ]
  },
  {
   "cell_type": "markdown",
   "id": "762a71a4",
   "metadata": {},
   "source": [
    "## Average Average medical Charges Distribution Stay more vs less than 3 days"
   ]
  },
  {
   "cell_type": "code",
   "execution_count": null,
   "id": "f1bf40bc",
   "metadata": {},
   "outputs": [],
   "source": [
    "# Kernel Density Plot\n",
    "fig = plt.figure(figsize=(15,8),)\n",
    "ax=sns.kdeplot(train.loc[(train['LengthOfStay'] == 0),'AverageChargesInCounty'] , color='gray',shade=True,label='not survived')\n",
    "ax=sns.kdeplot(train.loc[(train['LengthOfStay'] == 1),'AverageChargesInCounty'] , color='g',shade=True, label='survived')\n",
    "plt.title('Average Average medical Charges Distribution Stay more vs less than 3 days', fontsize = 25, pad = 40)\n",
    "plt.ylabel(\"Frequency of Passenger\", fontsize = 15, labelpad = 20)\n",
    "plt.xlabel(\"Fare\", fontsize = 15, labelpad = 20);"
   ]
  },
  {
   "cell_type": "markdown",
   "id": "7c99066d",
   "metadata": {},
   "source": [
    "### ---------> OBSERVATION\n",
    "***\n",
    "This graph demonstrates the relationship between Fare and Survived. The remarkable growth in the plot the Fare which is under 100 dollar represents that most of the passengers who bought the ticket within that range were not survived. For the Fare is in the range from 100 to 200, the green shade is larger than the gray shade, so that it can be assumed that the higher the Fare that people pay, the higher chance those people can have to be survived. When fare is approximately more than 280 dollars, there is no gray shade which means, either everyone passed that fare point survived or maybe there is an outlier that clouds our judgment. Let's check..."
   ]
  },
  {
   "cell_type": "code",
   "execution_count": null,
   "id": "b25105a4",
   "metadata": {},
   "outputs": [],
   "source": []
  },
  {
   "cell_type": "code",
   "execution_count": null,
   "id": "0ae2a2fb",
   "metadata": {},
   "outputs": [],
   "source": [
    "train"
   ]
  },
  {
   "cell_type": "code",
   "execution_count": null,
   "id": "75ce24c6",
   "metadata": {},
   "outputs": [],
   "source": []
  },
  {
   "cell_type": "code",
   "execution_count": null,
   "id": "c9fa0a15",
   "metadata": {},
   "outputs": [],
   "source": []
  },
  {
   "cell_type": "code",
   "execution_count": null,
   "id": "35b6f6a6",
   "metadata": {},
   "outputs": [],
   "source": []
  },
  {
   "cell_type": "code",
   "execution_count": null,
   "id": "fa539c1d",
   "metadata": {},
   "outputs": [],
   "source": []
  },
  {
   "cell_type": "code",
   "execution_count": null,
   "id": "947dfe5d",
   "metadata": {},
   "outputs": [],
   "source": []
  },
  {
   "cell_type": "code",
   "execution_count": null,
   "id": "53f4fbb7",
   "metadata": {},
   "outputs": [],
   "source": []
  },
  {
   "cell_type": "code",
   "execution_count": null,
   "id": "515ec9df",
   "metadata": {},
   "outputs": [],
   "source": []
  },
  {
   "cell_type": "code",
   "execution_count": null,
   "id": "6a0b7e66",
   "metadata": {},
   "outputs": [],
   "source": []
  },
  {
   "cell_type": "code",
   "execution_count": null,
   "id": "59d51443",
   "metadata": {},
   "outputs": [],
   "source": []
  },
  {
   "cell_type": "code",
   "execution_count": null,
   "id": "b4d0bee4",
   "metadata": {},
   "outputs": [],
   "source": []
  },
  {
   "cell_type": "code",
   "execution_count": null,
   "id": "38782903",
   "metadata": {},
   "outputs": [],
   "source": []
  },
  {
   "cell_type": "code",
   "execution_count": null,
   "id": "680561ef",
   "metadata": {},
   "outputs": [],
   "source": []
  },
  {
   "cell_type": "code",
   "execution_count": null,
   "id": "2523363e",
   "metadata": {},
   "outputs": [],
   "source": []
  },
  {
   "cell_type": "code",
   "execution_count": null,
   "id": "23343a14",
   "metadata": {},
   "outputs": [],
   "source": []
  },
  {
   "cell_type": "code",
   "execution_count": null,
   "id": "bb51d352",
   "metadata": {},
   "outputs": [],
   "source": []
  },
  {
   "cell_type": "code",
   "execution_count": null,
   "id": "fbce56d7",
   "metadata": {},
   "outputs": [],
   "source": []
  }
 ],
 "metadata": {
  "kernelspec": {
   "display_name": "Python 3",
   "language": "python",
   "name": "python3"
  },
  "language_info": {
   "codemirror_mode": {
    "name": "ipython",
    "version": 3
   },
   "file_extension": ".py",
   "mimetype": "text/x-python",
   "name": "python",
   "nbconvert_exporter": "python",
   "pygments_lexer": "ipython3",
   "version": "3.8.8"
  }
 },
 "nbformat": 4,
 "nbformat_minor": 5
}
