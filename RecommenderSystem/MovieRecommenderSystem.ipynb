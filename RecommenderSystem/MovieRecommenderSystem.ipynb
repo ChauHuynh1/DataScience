{
 "cells": [
  {
   "cell_type": "markdown",
   "id": "ef52cac5",
   "metadata": {},
   "source": [
    "<h1 style=\"color:#ffc0cb;font-size:70px;font-family:Georgia;text-align:center;\"><strong>Movie Recommender System</strong></h1>\n",
    "\n",
    "### <b>Author: Nguyen Dang Huynh Chau</b>\n",
    "\n",
    "From Netflix to Disney+, the need to build robust movie recommendation systems is extremely important given the huge demand for personalized content of modern consumers.\n",
    "\n",
    "An example of recommendation system is such as this:\n",
    "* User A watches **Game of Thrones** and **Breaking Bad**.\n",
    "* User B does search on **Game of Thrones**, then the system suggests **Breaking Bad** from data collected about user A.\n",
    "\n",
    "Recommendation systems are used not only for movies, but on multiple other products and services like Amazon (Books, Items), Pandora/Spotify (Music), Google (News, Search), YouTube (Videos) etc.\n",
    "\n",
    "Two most ubiquitous types of personalized recommendation systems are **Content-Based** and **Collaborative Filtering**. Collaborative filtering produces recommendations based on the knowledge of users’ attitude to items, that is it uses the “wisdom of the crowd” to recommend items. In contrast, content-based recommendation systems focus on the attributes of the items and give you recommendations based on the similarity between them.\n",
    "\n",
    "In this notebook, we will attempt at implementing these two systems to recommend movies and evaluate them to see which one performs better.\n",
    "\n",
    "After reading this notebook you will know:\n",
    "\n",
    "* About the MovieLens dataset problem for recommender system.\n",
    "* How to load and process the data.\n",
    "* How to do exploratory data analysis.\n",
    "* The 2 different types of recommendation engines.\n",
    "* How to develop a content-based recommendation model based on movie genres.\n",
    "* How to develop a collaborative filtering model based on user ratings.\n",
    "* Alternative approach to improve existing models.\n",
    "\n",
    "Let’s get started.\n",
    "*****\n",
    "## The MovieLens Dataset\n",
    "One of the most common datasets that is available on the internet for building a Recommender System is the [MovieLens DataSet](https://grouplens.org/datasets/movielens/). This version of the dataset that I'm working with ([1M](https://grouplens.org/datasets/movielens/1m/)) contains 1,000,209 anonymous ratings of approximately 3,900 movies made by 6,040 MovieLens users who joined MovieLens in 2000.\n",
    "\n",
    "The data was collected by GroupLens researchers over various periods of time, depending on the size of the set. This 1M version was released on February 2003. Users were selected at random for inclusion. All users selected had rated at least 20 movies."
   ]
  },
  {
   "cell_type": "markdown",
   "id": "dc109103",
   "metadata": {},
   "source": [
    "<h1 style=\"color:#ffc0cb;font-size:40px;font-family:Georgia;text-align:center;\"><strong> 📜 Table of Content</strong></h1>\n",
    "\n",
    "### 1. [Data Preparation](#1)\n",
    "\n",
    "1.1 [Importing Necessary Libraries and datasets](#1.1)\n",
    "\n",
    "1.2 [Data Retrieving](#1.2)\n",
    "\n",
    "1.3 [Data information](#1.3)\n",
    "\n",
    "<br>\n",
    "\n",
    "### 2. [Data Cleaning](#2)\n",
    "\n",
    "2.1 [About This Dataset](#2.1)\n",
    "\n",
    "2.2 [Drop column](#2.2)\n",
    "\n",
    "2.3 [Typo check](#2.3)\n",
    "\n",
    "2.4 [Missing Values](#2.4)\n",
    "\n",
    "> 2.4.1 [Check missing values](#2.4.1)\n",
    "\n",
    "> 2.4.2 [Fill missing values](#2.4.1)  \n",
    "\n",
    ">> - 2.4.2.a [Filling missing values for Embarked Feature](#2.4.2.a)\n",
    ">> - 2.4.2.b [Filling missing values for Cabin Feature](#2.4.2.b)\n",
    ">> - 2.4.2.c [Filling missing values for Fare Feature](#2.4.2.c)\n",
    "\n",
    ">> 2.4.2.d [Filling missing values for Age Feature](#2.4.2.d)\n",
    "\n",
    "2.5 [Data type](#2.5)\n",
    "\n",
    "2.6 [Upper Case the content](#2.6)\n",
    "\n",
    "2.7 [Extra-whitespaces](#2.7)\n",
    "\n",
    "2.8 [Descriptive statistics for Central Tendency](#2.8)\n",
    "\n",
    "2.9 [Detect Outlier](#2.9)\n",
    "\n",
    "2.10 [Save The Intermediate Data](#2.10)\n",
    "\n",
    "<br>\n",
    "\n",
    "### 3. [Data Exploration (EDA)](#3)\n",
    "\n",
    "3.1 [Overall look on target variable](#3.1)\n",
    "\n",
    "3.2 [Frequency of each corresponiding Target variable type](#3.2)\n",
    "\n",
    "3.3 [Statistical Overview](#3.3)\n",
    "\n",
    "3.4 [Correlation Matrix and Heatmap](#3.4)\n",
    "\n",
    "<br>\n",
    "\n",
    "### 4. [Feature Engineering](#4)\n",
    "\n",
    "4.1 [Separating dependent and independent variables](#4.1)\n",
    "\n",
    "4.2 [Encoding](#4.2)\n",
    "\n",
    "> 4.2.1 [Binary Encoding for Name and Ticket Feature:](#4.2.1)\n",
    "\n",
    "> 4.2.2 [Binary Encoding for Embarked Feature:](#4.2.2)\n",
    "\n",
    "4.3 [Separating dependent and independent variables](#4.3)\n",
    "\n",
    "4.4 [Splitting the training data](#4.4)\n",
    "\n",
    "4.5 [Feature Scaling](#4.5)\n",
    "\n",
    "<br>\n",
    "\n",
    "### 5. [Model Building](#5) \n",
    "\n",
    "5.1 [Logistic Regression](#5.1)\n",
    "\n",
    "5.1 [Feature Scaling](#5.2)\n",
    "\n",
    "5.1 [Feature Scaling](#5.3)\n",
    "\n",
    "5.1 [Feature Scaling](#5.4)\n",
    "\n",
    "\n",
    "<br>\n",
    "\n",
    "### 6. [Conculsions](#6)\n",
    "\n",
    "<br>\n",
    "\n",
    "### 7. [References](#7)\n",
    "\n",
    "<br>\n",
    "\n",
    "### 8. [Appendix](#8)\n",
    "\n",
    "<hr>"
   ]
  },
  {
   "cell_type": "markdown",
   "id": "bc4fe0e1",
   "metadata": {},
   "source": [
    "<a id=\"1\"></a>\n",
    "<h1 style=\"color:#ffc0cb;font-size:40px;font-family:Georgia;text-align:center;\"><strong> ✍️ 1. Data Preparation</strong></h1>\n",
    "\n",
    "<a id=\"1.1\"></a>\n",
    "# ✴️ 1.1 Importing Necessary Libraries and datasets"
   ]
  },
  {
   "cell_type": "code",
   "execution_count": 1,
   "id": "c9374777",
   "metadata": {},
   "outputs": [
    {
     "name": "stdout",
     "output_type": "stream",
     "text": [
      "Requirement already satisfied: missingno in /Users/huynhchau/opt/anaconda3/lib/python3.9/site-packages (0.5.0)\n",
      "Requirement already satisfied: matplotlib in /Users/huynhchau/opt/anaconda3/lib/python3.9/site-packages (from missingno) (3.4.3)\n",
      "Requirement already satisfied: numpy in /Users/huynhchau/opt/anaconda3/lib/python3.9/site-packages (from missingno) (1.20.3)\n",
      "Requirement already satisfied: scipy in /Users/huynhchau/opt/anaconda3/lib/python3.9/site-packages (from missingno) (1.7.1)\n",
      "Requirement already satisfied: seaborn in /Users/huynhchau/opt/anaconda3/lib/python3.9/site-packages (from missingno) (0.11.2)\n",
      "Requirement already satisfied: python-dateutil>=2.7 in /Users/huynhchau/opt/anaconda3/lib/python3.9/site-packages (from matplotlib->missingno) (2.8.2)\n",
      "Requirement already satisfied: pyparsing>=2.2.1 in /Users/huynhchau/opt/anaconda3/lib/python3.9/site-packages (from matplotlib->missingno) (3.0.4)\n",
      "Requirement already satisfied: cycler>=0.10 in /Users/huynhchau/opt/anaconda3/lib/python3.9/site-packages (from matplotlib->missingno) (0.10.0)\n",
      "Requirement already satisfied: kiwisolver>=1.0.1 in /Users/huynhchau/opt/anaconda3/lib/python3.9/site-packages (from matplotlib->missingno) (1.3.1)\n",
      "Requirement already satisfied: pillow>=6.2.0 in /Users/huynhchau/opt/anaconda3/lib/python3.9/site-packages (from matplotlib->missingno) (8.4.0)\n",
      "Requirement already satisfied: six in /Users/huynhchau/opt/anaconda3/lib/python3.9/site-packages (from cycler>=0.10->matplotlib->missingno) (1.16.0)\n",
      "Requirement already satisfied: pandas>=0.23 in /Users/huynhchau/opt/anaconda3/lib/python3.9/site-packages (from seaborn->missingno) (1.3.4)\n",
      "Requirement already satisfied: pytz>=2017.3 in /Users/huynhchau/opt/anaconda3/lib/python3.9/site-packages (from pandas>=0.23->seaborn->missingno) (2021.3)\n",
      "Requirement already satisfied: scikit-learn in /Users/huynhchau/opt/anaconda3/lib/python3.9/site-packages (1.0.2)\n",
      "Requirement already satisfied: numpy>=1.14.6 in /Users/huynhchau/opt/anaconda3/lib/python3.9/site-packages (from scikit-learn) (1.20.3)\n",
      "Requirement already satisfied: scipy>=1.1.0 in /Users/huynhchau/opt/anaconda3/lib/python3.9/site-packages (from scikit-learn) (1.7.1)\n",
      "Requirement already satisfied: threadpoolctl>=2.0.0 in /Users/huynhchau/opt/anaconda3/lib/python3.9/site-packages (from scikit-learn) (2.2.0)\n",
      "Requirement already satisfied: joblib>=0.11 in /Users/huynhchau/opt/anaconda3/lib/python3.9/site-packages (from scikit-learn) (1.1.0)\n",
      "Requirement already satisfied: xgboost in /Users/huynhchau/opt/anaconda3/lib/python3.9/site-packages (1.5.2)\n",
      "Requirement already satisfied: numpy in /Users/huynhchau/opt/anaconda3/lib/python3.9/site-packages (from xgboost) (1.20.3)\n",
      "Requirement already satisfied: scipy in /Users/huynhchau/opt/anaconda3/lib/python3.9/site-packages (from xgboost) (1.7.1)\n",
      "Requirement already satisfied: statsmodels in /Users/huynhchau/opt/anaconda3/lib/python3.9/site-packages (0.12.2)\n",
      "Requirement already satisfied: pandas>=0.21 in /Users/huynhchau/opt/anaconda3/lib/python3.9/site-packages (from statsmodels) (1.3.4)\n",
      "Requirement already satisfied: numpy>=1.15 in /Users/huynhchau/opt/anaconda3/lib/python3.9/site-packages (from statsmodels) (1.20.3)\n",
      "Requirement already satisfied: patsy>=0.5 in /Users/huynhchau/opt/anaconda3/lib/python3.9/site-packages (from statsmodels) (0.5.2)\n",
      "Requirement already satisfied: scipy>=1.1 in /Users/huynhchau/opt/anaconda3/lib/python3.9/site-packages (from statsmodels) (1.7.1)\n",
      "Requirement already satisfied: python-dateutil>=2.7.3 in /Users/huynhchau/opt/anaconda3/lib/python3.9/site-packages (from pandas>=0.21->statsmodels) (2.8.2)\n",
      "Requirement already satisfied: pytz>=2017.3 in /Users/huynhchau/opt/anaconda3/lib/python3.9/site-packages (from pandas>=0.21->statsmodels) (2021.3)\n",
      "Requirement already satisfied: six in /Users/huynhchau/opt/anaconda3/lib/python3.9/site-packages (from patsy>=0.5->statsmodels) (1.16.0)\n",
      "Requirement already satisfied: imbalanced-learn in /Users/huynhchau/opt/anaconda3/lib/python3.9/site-packages (0.9.0)\n",
      "Requirement already satisfied: joblib>=0.11 in /Users/huynhchau/opt/anaconda3/lib/python3.9/site-packages (from imbalanced-learn) (1.1.0)\n",
      "Requirement already satisfied: threadpoolctl>=2.0.0 in /Users/huynhchau/opt/anaconda3/lib/python3.9/site-packages (from imbalanced-learn) (2.2.0)\n",
      "Requirement already satisfied: numpy>=1.14.6 in /Users/huynhchau/opt/anaconda3/lib/python3.9/site-packages (from imbalanced-learn) (1.20.3)\n",
      "Requirement already satisfied: scipy>=1.1.0 in /Users/huynhchau/opt/anaconda3/lib/python3.9/site-packages (from imbalanced-learn) (1.7.1)\n",
      "Requirement already satisfied: scikit-learn>=1.0.1 in /Users/huynhchau/opt/anaconda3/lib/python3.9/site-packages (from imbalanced-learn) (1.0.2)\n",
      "Requirement already satisfied: category_encoders in /Users/huynhchau/opt/anaconda3/lib/python3.9/site-packages (2.3.0)\n",
      "Requirement already satisfied: statsmodels>=0.9.0 in /Users/huynhchau/opt/anaconda3/lib/python3.9/site-packages (from category_encoders) (0.12.2)\n",
      "Requirement already satisfied: scipy>=1.0.0 in /Users/huynhchau/opt/anaconda3/lib/python3.9/site-packages (from category_encoders) (1.7.1)\n",
      "Requirement already satisfied: numpy>=1.14.0 in /Users/huynhchau/opt/anaconda3/lib/python3.9/site-packages (from category_encoders) (1.20.3)\n",
      "Requirement already satisfied: scikit-learn>=0.20.0 in /Users/huynhchau/opt/anaconda3/lib/python3.9/site-packages (from category_encoders) (1.0.2)\n",
      "Requirement already satisfied: pandas>=0.21.1 in /Users/huynhchau/opt/anaconda3/lib/python3.9/site-packages (from category_encoders) (1.3.4)\n",
      "Requirement already satisfied: patsy>=0.5.1 in /Users/huynhchau/opt/anaconda3/lib/python3.9/site-packages (from category_encoders) (0.5.2)\n",
      "Requirement already satisfied: python-dateutil>=2.7.3 in /Users/huynhchau/opt/anaconda3/lib/python3.9/site-packages (from pandas>=0.21.1->category_encoders) (2.8.2)\n",
      "Requirement already satisfied: pytz>=2017.3 in /Users/huynhchau/opt/anaconda3/lib/python3.9/site-packages (from pandas>=0.21.1->category_encoders) (2021.3)\n",
      "Requirement already satisfied: six in /Users/huynhchau/opt/anaconda3/lib/python3.9/site-packages (from patsy>=0.5.1->category_encoders) (1.16.0)\n",
      "Requirement already satisfied: threadpoolctl>=2.0.0 in /Users/huynhchau/opt/anaconda3/lib/python3.9/site-packages (from scikit-learn>=0.20.0->category_encoders) (2.2.0)\n",
      "Requirement already satisfied: joblib>=0.11 in /Users/huynhchau/opt/anaconda3/lib/python3.9/site-packages (from scikit-learn>=0.20.0->category_encoders) (1.1.0)\n"
     ]
    }
   ],
   "source": [
    "# Install a conda package in the current Jupyter kernel\n",
    "import sys\n",
    "!{sys.executable} -m pip install missingno\n",
    "!{sys.executable} -m pip install scikit-learn\n",
    "!{sys.executable} -m pip install xgboost\n",
    "!{sys.executable} -m pip install statsmodels\n",
    "!{sys.executable} -m pip install imbalanced-learn\n",
    "!{sys.executable} -m pip install category_encoders\n",
    "\n",
    "\n",
    "# work with data in tabular representation\n",
    "from datetime import time\n",
    "import pandas as pd\n",
    "# round the data in the correlation matrix\n",
    "import numpy as np\n",
    "import os\n",
    "\n",
    "\n",
    "# Modules for data visualization\n",
    "import seaborn as sns\n",
    "import missingno as msno\n",
    "import matplotlib.pyplot as plt\n",
    "import matplotlib.patches as mpatches\n",
    "\n",
    "from sklearn.model_selection import train_test_split, GridSearchCV\n",
    "from sklearn.pipeline import Pipeline\n",
    "from sklearn.metrics import plot_confusion_matrix, classification_report\n",
    "from sklearn.neighbors import KNeighborsClassifier\n",
    "\n",
    "# encoding\n",
    "from sklearn.preprocessing import OneHotEncoder, OrdinalEncoder\n",
    "import category_encoders as ce\n",
    "\n",
    "# import LogisticRegression model in python. \n",
    "from sklearn.linear_model import LogisticRegression\n",
    "from sklearn.metrics import mean_absolute_error, accuracy_score\n",
    "\n",
    "# for saving the pipeline\n",
    "import joblib\n",
    "\n",
    "# from Scikit-learn\n",
    "from sklearn.linear_model import Lasso\n",
    "from sklearn.pipeline import Pipeline\n",
    "from sklearn.preprocessing import MinMaxScaler, Binarizer\n",
    "\n",
    "pd.set_option('display.max_rows', 200)\n",
    "pd.set_option('display.max_columns', 200)\n",
    "\n",
    "# Ensure that our plots are shown and embedded within the Jupyter notebook itself. Without this command, sometimes plots may show up in pop-up windows\n",
    "%matplotlib inline\n",
    "\n",
    "# overwrite the style of all the matplotlib graphs\n",
    "sns.set()\n",
    "\n",
    "# ignore DeprecationWarning Error Messages\n",
    "import warnings\n",
    "warnings.filterwarnings('ignore')"
   ]
  },
  {
   "cell_type": "code",
   "execution_count": 2,
   "id": "8acf9e20",
   "metadata": {},
   "outputs": [
    {
     "name": "stdout",
     "output_type": "stream",
     "text": [
      "Numpy version:  1.20.3\n",
      "Pandas version:  1.3.4\n",
      "Python 3.9.7\r\n"
     ]
    }
   ],
   "source": [
    "# check the version of the packages\n",
    "print(\"Numpy version: \", np.__version__)\n",
    "print(\"Pandas version: \",pd.__version__)\n",
    "! python --version"
   ]
  },
  {
   "cell_type": "markdown",
   "id": "b404ca62",
   "metadata": {},
   "source": [
    "<a id=\"1.2\"></a>\n",
    "# 📲 1.2 Data Retrieving\n",
    "***\n",
    "In order to load data properly, the data in csv file have to be examined carefully. First of all, all the categories are seperated by the \",\" and strip the extra-whitespaces at the begin by setting \"skipinitialspace = True\"."
   ]
  },
  {
   "cell_type": "code",
   "execution_count": 3,
   "id": "6623096c",
   "metadata": {},
   "outputs": [
    {
     "name": "stdout",
     "output_type": "stream",
     "text": [
      "The shape of the ORGINAL data is (row, column): (1000209, 4)\n"
     ]
    },
    {
     "data": {
      "text/html": [
       "<div>\n",
       "<style scoped>\n",
       "    .dataframe tbody tr th:only-of-type {\n",
       "        vertical-align: middle;\n",
       "    }\n",
       "\n",
       "    .dataframe tbody tr th {\n",
       "        vertical-align: top;\n",
       "    }\n",
       "\n",
       "    .dataframe thead th {\n",
       "        text-align: right;\n",
       "    }\n",
       "</style>\n",
       "<table border=\"1\" class=\"dataframe\">\n",
       "  <thead>\n",
       "    <tr style=\"text-align: right;\">\n",
       "      <th></th>\n",
       "      <th>user_id</th>\n",
       "      <th>movie_id</th>\n",
       "      <th>rating</th>\n",
       "      <th>timestamp</th>\n",
       "    </tr>\n",
       "  </thead>\n",
       "  <tbody>\n",
       "    <tr>\n",
       "      <th>0</th>\n",
       "      <td>1</td>\n",
       "      <td>1193</td>\n",
       "      <td>5</td>\n",
       "      <td>978300760</td>\n",
       "    </tr>\n",
       "    <tr>\n",
       "      <th>1</th>\n",
       "      <td>1</td>\n",
       "      <td>661</td>\n",
       "      <td>3</td>\n",
       "      <td>978302109</td>\n",
       "    </tr>\n",
       "    <tr>\n",
       "      <th>2</th>\n",
       "      <td>1</td>\n",
       "      <td>914</td>\n",
       "      <td>3</td>\n",
       "      <td>978301968</td>\n",
       "    </tr>\n",
       "  </tbody>\n",
       "</table>\n",
       "</div>"
      ],
      "text/plain": [
       "   user_id  movie_id  rating  timestamp\n",
       "0        1      1193       5  978300760\n",
       "1        1       661       3  978302109\n",
       "2        1       914       3  978301968"
      ]
     },
     "execution_count": 3,
     "metadata": {},
     "output_type": "execute_result"
    }
   ],
   "source": [
    "## Importing the datasets\n",
    "rating = pd.read_csv(\"Data/ratings.csv\", delimiter='\\t', skipinitialspace = True, usecols=['user_id', 'movie_id', 'rating', 'timestamp'])\n",
    "\n",
    "rating.columns = rating.columns.str.replace(' ', '') #strip the extra-whitespaces out\n",
    "\n",
    "print(\"The shape of the ORGINAL data is (row, column):\", str(rating.shape))\n",
    "\n",
    "# drop Unnamed, it is just a number given to identify each house\n",
    "rating.head(3)"
   ]
  },
  {
   "cell_type": "code",
   "execution_count": 4,
   "id": "2634ce7b",
   "metadata": {},
   "outputs": [
    {
     "name": "stdout",
     "output_type": "stream",
     "text": [
      "The shape of the ORGINAL data is (row, column): (6040, 6)\n"
     ]
    },
    {
     "data": {
      "text/html": [
       "<div>\n",
       "<style scoped>\n",
       "    .dataframe tbody tr th:only-of-type {\n",
       "        vertical-align: middle;\n",
       "    }\n",
       "\n",
       "    .dataframe tbody tr th {\n",
       "        vertical-align: top;\n",
       "    }\n",
       "\n",
       "    .dataframe thead th {\n",
       "        text-align: right;\n",
       "    }\n",
       "</style>\n",
       "<table border=\"1\" class=\"dataframe\">\n",
       "  <thead>\n",
       "    <tr style=\"text-align: right;\">\n",
       "      <th></th>\n",
       "      <th>user_id</th>\n",
       "      <th>gender</th>\n",
       "      <th>occupation</th>\n",
       "      <th>zipcode</th>\n",
       "      <th>age_desc</th>\n",
       "      <th>occ_desc</th>\n",
       "    </tr>\n",
       "  </thead>\n",
       "  <tbody>\n",
       "    <tr>\n",
       "      <th>0</th>\n",
       "      <td>1</td>\n",
       "      <td>F</td>\n",
       "      <td>10</td>\n",
       "      <td>48067</td>\n",
       "      <td>Under 18</td>\n",
       "      <td>K-12 student</td>\n",
       "    </tr>\n",
       "    <tr>\n",
       "      <th>1</th>\n",
       "      <td>2</td>\n",
       "      <td>M</td>\n",
       "      <td>16</td>\n",
       "      <td>70072</td>\n",
       "      <td>56+</td>\n",
       "      <td>self-employed</td>\n",
       "    </tr>\n",
       "    <tr>\n",
       "      <th>2</th>\n",
       "      <td>3</td>\n",
       "      <td>M</td>\n",
       "      <td>15</td>\n",
       "      <td>55117</td>\n",
       "      <td>25-34</td>\n",
       "      <td>scientist</td>\n",
       "    </tr>\n",
       "  </tbody>\n",
       "</table>\n",
       "</div>"
      ],
      "text/plain": [
       "   user_id gender  occupation zipcode  age_desc       occ_desc\n",
       "0        1      F          10   48067  Under 18   K-12 student\n",
       "1        2      M          16   70072       56+  self-employed\n",
       "2        3      M          15   55117     25-34      scientist"
      ]
     },
     "execution_count": 4,
     "metadata": {},
     "output_type": "execute_result"
    }
   ],
   "source": [
    "## Importing the datasets\n",
    "user = pd.read_csv(\"Data/users.csv\", delimiter='\\t', skipinitialspace = True, usecols=['user_id', 'gender', 'zipcode', 'age_desc', 'occ_desc', 'occupation'])\n",
    "\n",
    "user.columns = user.columns.str.replace(' ', '') #strip the extra-whitespaces out\n",
    "\n",
    "print(\"The shape of the ORGINAL data is (row, column):\", str(user.shape))\n",
    "\n",
    "# drop Unnamed, it is just a number given to identify each house\n",
    "user.head(3)"
   ]
  },
  {
   "cell_type": "code",
   "execution_count": 5,
   "id": "1600ff11",
   "metadata": {},
   "outputs": [
    {
     "name": "stdout",
     "output_type": "stream",
     "text": [
      "The shape of the ORGINAL data is (row, column): (3883, 3)\n"
     ]
    },
    {
     "data": {
      "text/html": [
       "<div>\n",
       "<style scoped>\n",
       "    .dataframe tbody tr th:only-of-type {\n",
       "        vertical-align: middle;\n",
       "    }\n",
       "\n",
       "    .dataframe tbody tr th {\n",
       "        vertical-align: top;\n",
       "    }\n",
       "\n",
       "    .dataframe thead th {\n",
       "        text-align: right;\n",
       "    }\n",
       "</style>\n",
       "<table border=\"1\" class=\"dataframe\">\n",
       "  <thead>\n",
       "    <tr style=\"text-align: right;\">\n",
       "      <th></th>\n",
       "      <th>movie_id</th>\n",
       "      <th>title</th>\n",
       "      <th>genres</th>\n",
       "    </tr>\n",
       "  </thead>\n",
       "  <tbody>\n",
       "    <tr>\n",
       "      <th>0</th>\n",
       "      <td>1</td>\n",
       "      <td>Toy Story (1995)</td>\n",
       "      <td>Animation|Children's|Comedy</td>\n",
       "    </tr>\n",
       "    <tr>\n",
       "      <th>1</th>\n",
       "      <td>2</td>\n",
       "      <td>Jumanji (1995)</td>\n",
       "      <td>Adventure|Children's|Fantasy</td>\n",
       "    </tr>\n",
       "    <tr>\n",
       "      <th>2</th>\n",
       "      <td>3</td>\n",
       "      <td>Grumpier Old Men (1995)</td>\n",
       "      <td>Comedy|Romance</td>\n",
       "    </tr>\n",
       "  </tbody>\n",
       "</table>\n",
       "</div>"
      ],
      "text/plain": [
       "   movie_id                    title                        genres\n",
       "0         1         Toy Story (1995)   Animation|Children's|Comedy\n",
       "1         2           Jumanji (1995)  Adventure|Children's|Fantasy\n",
       "2         3  Grumpier Old Men (1995)                Comedy|Romance"
      ]
     },
     "execution_count": 5,
     "metadata": {},
     "output_type": "execute_result"
    }
   ],
   "source": [
    "## Importing the datasets\n",
    "movies = pd.read_csv(\"Data/movies.csv\", sep='\\t', encoding='latin-1', skipinitialspace = True, usecols=['movie_id', 'title', 'genres'])\n",
    "\n",
    "movies.columns = movies.columns.str.replace(' ', '') #strip the extra-whitespaces out\n",
    "\n",
    "print(\"The shape of the ORGINAL data is (row, column):\", str(movies.shape))\n",
    "\n",
    "# drop Unnamed, it is just a number given to identify each house\n",
    "movies.head(3)"
   ]
  },
  {
   "cell_type": "markdown",
   "id": "60608f55",
   "metadata": {},
   "source": [
    "<a id=\"1.3\"></a>\n",
    "# 🔈 1.3 Data Information"
   ]
  },
  {
   "cell_type": "code",
   "execution_count": 6,
   "id": "3ae3476a",
   "metadata": {},
   "outputs": [
    {
     "name": "stdout",
     "output_type": "stream",
     "text": [
      "The shape of the train data is (row, column):(1000209, 4)\n",
      "<class 'pandas.core.frame.DataFrame'>\n",
      "RangeIndex: 1000209 entries, 0 to 1000208\n",
      "Data columns (total 4 columns):\n",
      " #   Column     Non-Null Count    Dtype\n",
      "---  ------     --------------    -----\n",
      " 0   user_id    1000209 non-null  int64\n",
      " 1   movie_id   1000209 non-null  int64\n",
      " 2   rating     1000209 non-null  int64\n",
      " 3   timestamp  1000209 non-null  int64\n",
      "dtypes: int64(4)\n",
      "memory usage: 30.5 MB\n",
      "None\n"
     ]
    }
   ],
   "source": [
    "print (\"The shape of the train data is (row, column):\"+ str(rating.shape))\n",
    "print (rating.info())"
   ]
  },
  {
   "cell_type": "code",
   "execution_count": 7,
   "id": "d388c7bd",
   "metadata": {},
   "outputs": [
    {
     "name": "stdout",
     "output_type": "stream",
     "text": [
      "The shape of the train data is (row, column):(6040, 6)\n",
      "<class 'pandas.core.frame.DataFrame'>\n",
      "RangeIndex: 6040 entries, 0 to 6039\n",
      "Data columns (total 6 columns):\n",
      " #   Column      Non-Null Count  Dtype \n",
      "---  ------      --------------  ----- \n",
      " 0   user_id     6040 non-null   int64 \n",
      " 1   gender      6040 non-null   object\n",
      " 2   occupation  6040 non-null   int64 \n",
      " 3   zipcode     6040 non-null   object\n",
      " 4   age_desc    6040 non-null   object\n",
      " 5   occ_desc    6040 non-null   object\n",
      "dtypes: int64(2), object(4)\n",
      "memory usage: 283.2+ KB\n",
      "None\n"
     ]
    }
   ],
   "source": [
    "print (\"The shape of the train data is (row, column):\"+ str(user.shape))\n",
    "print (user.info())"
   ]
  },
  {
   "cell_type": "code",
   "execution_count": 8,
   "id": "c9b41269",
   "metadata": {},
   "outputs": [
    {
     "name": "stdout",
     "output_type": "stream",
     "text": [
      "The shape of the train data is (row, column):(3883, 3)\n",
      "<class 'pandas.core.frame.DataFrame'>\n",
      "RangeIndex: 3883 entries, 0 to 3882\n",
      "Data columns (total 3 columns):\n",
      " #   Column    Non-Null Count  Dtype \n",
      "---  ------    --------------  ----- \n",
      " 0   movie_id  3883 non-null   int64 \n",
      " 1   title     3883 non-null   object\n",
      " 2   genres    3883 non-null   object\n",
      "dtypes: int64(1), object(2)\n",
      "memory usage: 91.1+ KB\n",
      "None\n"
     ]
    }
   ],
   "source": [
    "print (\"The shape of the train data is (row, column):\"+ str(movies.shape))\n",
    "print (movies.info())"
   ]
  },
  {
   "cell_type": "markdown",
   "id": "3ba38139",
   "metadata": {},
   "source": [
    "<a id=\"2\"></a>\n",
    "<h1 style=\"color:#ffc0cb;font-size:40px;font-family:Georgia;text-align:center;\"><strong> 🧹 2. Data Cleaning</strong></h1>"
   ]
  },
  {
   "cell_type": "markdown",
   "id": "2dbe0295",
   "metadata": {},
   "source": [
    "<a id=\"2.1\"></a>\n",
    "# 📝 2.1 Typo check:\n",
    "***\n",
    "In order to check the typo, all the categories in all the columns with value_count() functions, by counting the typo mistake can appear. For those cloumns has a long values count list, they will be shown by using a for loop in order to check carefully. Each question for each columns all are listed below for catching up with those values in or to decide if the answer is valid or not.\n",
    "\n",
    "## Users dataset"
   ]
  },
  {
   "cell_type": "code",
   "execution_count": 9,
   "id": "82e31d8b",
   "metadata": {},
   "outputs": [
    {
     "data": {
      "text/plain": [
       "M    4331\n",
       "F    1709\n",
       "Name: gender, dtype: int64"
      ]
     },
     "execution_count": 9,
     "metadata": {},
     "output_type": "execute_result"
    }
   ],
   "source": [
    "user['gender'].value_counts()"
   ]
  },
  {
   "cell_type": "markdown",
   "id": "53edd669",
   "metadata": {},
   "source": [
    "### ------> OBSERVATION\n",
    "*****\n",
    "I want to replace `M` with `Male` and `F` with `Female`"
   ]
  },
  {
   "cell_type": "code",
   "execution_count": 10,
   "id": "08b62630",
   "metadata": {},
   "outputs": [],
   "source": [
    "#Train dataset\n",
    "user.loc[user['gender'].isin(['F']), 'gender'] = 'Female'\n",
    "user.loc[user['gender'].isin(['M']), 'gender'] = 'Male'"
   ]
  },
  {
   "cell_type": "code",
   "execution_count": 11,
   "id": "a2a8a10b",
   "metadata": {},
   "outputs": [
    {
     "data": {
      "text/plain": [
       "25-34       2096\n",
       "35-44       1193\n",
       "18-24       1103\n",
       "45-49        550\n",
       "50-55        496\n",
       "56+          380\n",
       "Under 18     222\n",
       "Name: age_desc, dtype: int64"
      ]
     },
     "execution_count": 11,
     "metadata": {},
     "output_type": "execute_result"
    }
   ],
   "source": [
    "user['age_desc'].value_counts()"
   ]
  },
  {
   "cell_type": "code",
   "execution_count": 12,
   "id": "6dabf090",
   "metadata": {},
   "outputs": [
    {
     "data": {
      "text/plain": [
       "college/grad student      759\n",
       "other or not specified    711\n",
       "executive/managerial      679\n",
       "academic/educator         528\n",
       "technician/engineer       502\n",
       "programmer                388\n",
       "sales/marketing           302\n",
       "writer                    281\n",
       "artist                    267\n",
       "self-employed             241\n",
       "doctor/health care        236\n",
       "K-12 student              195\n",
       "clerical/admin            173\n",
       "scientist                 144\n",
       "retired                   142\n",
       "lawyer                    129\n",
       "customer service          112\n",
       "homemaker                  92\n",
       "unemployed                 72\n",
       "tradesman/craftsman        70\n",
       "farmer                     17\n",
       "Name: occ_desc, dtype: int64"
      ]
     },
     "execution_count": 12,
     "metadata": {},
     "output_type": "execute_result"
    }
   ],
   "source": [
    "user['occ_desc'].value_counts()"
   ]
  },
  {
   "cell_type": "markdown",
   "id": "e7a0cac1",
   "metadata": {},
   "source": [
    "## Movies dataset"
   ]
  },
  {
   "cell_type": "code",
   "execution_count": 13,
   "id": "c7d1aef9",
   "metadata": {},
   "outputs": [
    {
     "data": {
      "text/plain": [
       "Toy Story (1995)                           1\n",
       "Buena Vista Social Club (1999)             1\n",
       "Son of Frankenstein (1939)                 1\n",
       "Ghost of Frankenstein, The (1942)          1\n",
       "Frankenstein Meets the Wolf Man (1943)     1\n",
       "                                          ..\n",
       "Kids of Survival (1993)                    1\n",
       "Alien³ (1992)                              1\n",
       "American Werewolf in London, An (1981)     1\n",
       "Amityville 1992: It's About Time (1992)    1\n",
       "Contender, The (2000)                      1\n",
       "Name: title, Length: 3883, dtype: int64"
      ]
     },
     "execution_count": 13,
     "metadata": {},
     "output_type": "execute_result"
    }
   ],
   "source": [
    "movies['title'].value_counts()"
   ]
  },
  {
   "cell_type": "code",
   "execution_count": 14,
   "id": "660bfb91",
   "metadata": {},
   "outputs": [
    {
     "data": {
      "text/plain": [
       "Drama                                  843\n",
       "Comedy                                 521\n",
       "Horror                                 178\n",
       "Comedy|Drama                           162\n",
       "Comedy|Romance                         142\n",
       "                                      ... \n",
       "Action|Comedy|Crime|Horror|Thriller      1\n",
       "Action|Drama|Thriller|War                1\n",
       "Action|Adventure|Children's              1\n",
       "Action|Adventure|Children's|Fantasy      1\n",
       "Adventure|Crime|Sci-Fi|Thriller          1\n",
       "Name: genres, Length: 301, dtype: int64"
      ]
     },
     "execution_count": 14,
     "metadata": {},
     "output_type": "execute_result"
    }
   ],
   "source": [
    "movies['genres'].value_counts()"
   ]
  },
  {
   "cell_type": "code",
   "execution_count": 15,
   "id": "20e5799d",
   "metadata": {},
   "outputs": [],
   "source": [
    "movies = movies.assign(genres=movies.genres.str.split(\"|\")).explode('genres')"
   ]
  },
  {
   "cell_type": "markdown",
   "id": "2be81577",
   "metadata": {},
   "source": [
    "<a id=\"2.2\"></a>\n",
    "# 📚 2.2 Missing values\n",
    "Missing values can cause a lot of unexpected problems such as not reducing the power of a model, but also negatively affect the performance of the studies and analysis of that data. Hence, it is important to deal with missing data. First step is to check the number of missing values of each column and fill in with the appropriate values. "
   ]
  },
  {
   "cell_type": "code",
   "execution_count": 18,
   "id": "a19e0e07",
   "metadata": {},
   "outputs": [
    {
     "name": "stdout",
     "output_type": "stream",
     "text": [
      "Missing values in the dataframe in descending: \n",
      " Empty DataFrame\n",
      "Columns: [Total, Percent]\n",
      "Index: []\n"
     ]
    },
    {
     "data": {
      "image/png": "[encoded data removed]",
      "text/plain": [
       "<Figure size 1800x720 with 2 Axes>"
      ]
     },
     "metadata": {},
     "output_type": "display_data"
    }
   ],
   "source": [
    "def missing_percentage(df):\n",
    "    \"\"\"This function takes a DataFrame(df) as input and returns two columns, total missing values and total missing values percentage\"\"\"\n",
    "    total = df.isnull().sum().sort_values(ascending=False)[df.isnull().sum().sort_values(ascending=False) != 0]\n",
    "    percent = round(df.isnull().sum().sort_values(ascending=False) / len(df) * 100, 2)[\n",
    "        round(df.isnull().sum().sort_values(ascending=False) / len(df) * 100, 2) != 0]\n",
    "    return pd.concat([total, percent], axis=1, keys=['Total', 'Percent'])\n",
    "\n",
    "# display missing values in descending\n",
    "print(\"Missing values in the dataframe in descending: \\n\", missing_percentage(rating).sort_values(by='Total', ascending=False))\n",
    "\n",
    "# visualize where the missing values are located\n",
    "msno.matrix(rating, color=(255 / 255, 192 / 255, 203 / 255))\n",
    "pink_patch = mpatches.Patch(color='pink', label='present value')\n",
    "white_patch = mpatches.Patch(color='white', label='absent value')\n",
    "plt.legend(handles=[pink_patch, white_patch])\n",
    "plt.show()"
   ]
  },
  {
   "cell_type": "code",
   "execution_count": 19,
   "id": "544013d1",
   "metadata": {},
   "outputs": [
    {
     "name": "stdout",
     "output_type": "stream",
     "text": [
      "Missing values in the dataframe in descending: \n",
      " Empty DataFrame\n",
      "Columns: [Total, Percent]\n",
      "Index: []\n"
     ]
    },
    {
     "data": {
      "image/png": "[encoded data removed]",
      "text/plain": [
       "<Figure size 1800x720 with 2 Axes>"
      ]
     },
     "metadata": {},
     "output_type": "display_data"
    }
   ],
   "source": [
    "# display missing values in descending\n",
    "print(\"Missing values in the dataframe in descending: \\n\", missing_percentage(movies).sort_values(by='Total', ascending=False))\n",
    "\n",
    "# visualize where the missing values are located\n",
    "msno.matrix(movies, color=(255 / 255, 192 / 255, 203 / 255))\n",
    "pink_patch = mpatches.Patch(color='pink', label='present value')\n",
    "white_patch = mpatches.Patch(color='white', label='absent value')\n",
    "plt.legend(handles=[pink_patch, white_patch])\n",
    "plt.show()"
   ]
  },
  {
   "cell_type": "code",
   "execution_count": 20,
   "id": "202143f8",
   "metadata": {},
   "outputs": [
    {
     "name": "stdout",
     "output_type": "stream",
     "text": [
      "Missing values in the dataframe in descending: \n",
      " Empty DataFrame\n",
      "Columns: [Total, Percent]\n",
      "Index: []\n"
     ]
    },
    {
     "data": {
      "image/png": "[encoded data removed]",
      "text/plain": [
       "<Figure size 1800x720 with 2 Axes>"
      ]
     },
     "metadata": {},
     "output_type": "display_data"
    }
   ],
   "source": [
    "# display missing values in descending\n",
    "print(\"Missing values in the dataframe in descending: \\n\", missing_percentage(user).sort_values(by='Total', ascending=False))\n",
    "\n",
    "# visualize where the missing values are located\n",
    "msno.matrix(user, color=(255 / 255, 192 / 255, 203 / 255))\n",
    "pink_patch = mpatches.Patch(color='pink', label='present value')\n",
    "white_patch = mpatches.Patch(color='white', label='absent value')\n",
    "plt.legend(handles=[pink_patch, white_patch])\n",
    "plt.show()"
   ]
  },
  {
   "cell_type": "markdown",
   "id": "258becfb",
   "metadata": {},
   "source": [
    "### ------> OBSERVATION\n",
    "*****\n",
    "There is no missing value."
   ]
  },
  {
   "cell_type": "markdown",
   "id": "48fed081",
   "metadata": {},
   "source": [
    "<a id=\"2.3\"></a>\n",
    "# 🦄 2.3 Data type\n",
    "***\n",
    "\n",
    "## user dataset"
   ]
  },
  {
   "cell_type": "code",
   "execution_count": 21,
   "id": "5edb6a23",
   "metadata": {},
   "outputs": [],
   "source": [
    "user['gender'] = user['gender'].astype('string')\n",
    "user['zipcode'] = user['zipcode'].astype('string')\n",
    "user['age_desc'] = user['age_desc'].astype('string')\n",
    "user['occ_desc'] = user['occ_desc'].astype('string')\n"
   ]
  },
  {
   "cell_type": "markdown",
   "id": "6e8d51ea",
   "metadata": {},
   "source": [
    "## movies dataset"
   ]
  },
  {
   "cell_type": "code",
   "execution_count": 22,
   "id": "6dc39e42",
   "metadata": {},
   "outputs": [],
   "source": [
    "movies['title'] = movies['title'].astype('string')\n",
    "movies['genres'] = movies['genres'].astype('string')"
   ]
  },
  {
   "cell_type": "markdown",
   "id": "f97630fc",
   "metadata": {},
   "source": [
    "<a id=\"2.6\"></a>\n",
    "# 💭 2.6 Upper Case the content\n",
    "In this section we will convert all the string value in the column to uppercase for further processing and keep all the string uniformly format. This will improve the analysis of the data, and also easier to perform any function related to the string. "
   ]
  },
  {
   "cell_type": "code",
   "execution_count": null,
   "id": "5a09e86c",
   "metadata": {},
   "outputs": [],
   "source": []
  },
  {
   "cell_type": "code",
   "execution_count": null,
   "id": "cc10872b",
   "metadata": {},
   "outputs": [],
   "source": []
  },
  {
   "cell_type": "code",
   "execution_count": null,
   "id": "8a551dd6",
   "metadata": {},
   "outputs": [],
   "source": []
  },
  {
   "cell_type": "code",
   "execution_count": null,
   "id": "5b8a96e8",
   "metadata": {},
   "outputs": [],
   "source": []
  },
  {
   "cell_type": "code",
   "execution_count": null,
   "id": "0def1db6",
   "metadata": {},
   "outputs": [],
   "source": []
  },
  {
   "cell_type": "code",
   "execution_count": null,
   "id": "b3387744",
   "metadata": {},
   "outputs": [],
   "source": []
  },
  {
   "cell_type": "code",
   "execution_count": null,
   "id": "3b3c6f3d",
   "metadata": {},
   "outputs": [],
   "source": []
  },
  {
   "cell_type": "code",
   "execution_count": null,
   "id": "da5c1956",
   "metadata": {},
   "outputs": [],
   "source": []
  },
  {
   "cell_type": "code",
   "execution_count": null,
   "id": "b692e2c2",
   "metadata": {},
   "outputs": [],
   "source": []
  },
  {
   "cell_type": "code",
   "execution_count": null,
   "id": "76b45c88",
   "metadata": {},
   "outputs": [],
   "source": []
  },
  {
   "cell_type": "code",
   "execution_count": null,
   "id": "1e4a352b",
   "metadata": {},
   "outputs": [],
   "source": []
  },
  {
   "cell_type": "code",
   "execution_count": null,
   "id": "602848fc",
   "metadata": {},
   "outputs": [],
   "source": []
  },
  {
   "cell_type": "code",
   "execution_count": null,
   "id": "d696cda7",
   "metadata": {},
   "outputs": [],
   "source": []
  },
  {
   "cell_type": "code",
   "execution_count": null,
   "id": "cdcf1981",
   "metadata": {},
   "outputs": [],
   "source": []
  },
  {
   "cell_type": "code",
   "execution_count": null,
   "id": "5256dd8c",
   "metadata": {},
   "outputs": [],
   "source": []
  },
  {
   "cell_type": "code",
   "execution_count": null,
   "id": "031bc0aa",
   "metadata": {},
   "outputs": [],
   "source": []
  },
  {
   "cell_type": "code",
   "execution_count": null,
   "id": "6915c617",
   "metadata": {},
   "outputs": [],
   "source": []
  },
  {
   "cell_type": "code",
   "execution_count": null,
   "id": "a9f08dec",
   "metadata": {},
   "outputs": [],
   "source": []
  },
  {
   "cell_type": "code",
   "execution_count": null,
   "id": "ffedbf15",
   "metadata": {},
   "outputs": [],
   "source": []
  },
  {
   "cell_type": "code",
   "execution_count": null,
   "id": "fb1d88df",
   "metadata": {},
   "outputs": [],
   "source": []
  },
  {
   "cell_type": "code",
   "execution_count": null,
   "id": "f0c14469",
   "metadata": {},
   "outputs": [],
   "source": []
  },
  {
   "cell_type": "code",
   "execution_count": null,
   "id": "a5a76d91",
   "metadata": {},
   "outputs": [],
   "source": []
  },
  {
   "cell_type": "code",
   "execution_count": null,
   "id": "a0ec6509",
   "metadata": {},
   "outputs": [],
   "source": []
  },
  {
   "cell_type": "code",
   "execution_count": null,
   "id": "109f1121",
   "metadata": {},
   "outputs": [],
   "source": []
  },
  {
   "cell_type": "code",
   "execution_count": null,
   "id": "a81a5fc3",
   "metadata": {},
   "outputs": [],
   "source": []
  },
  {
   "cell_type": "code",
   "execution_count": null,
   "id": "95fd4ff2",
   "metadata": {},
   "outputs": [],
   "source": []
  },
  {
   "cell_type": "code",
   "execution_count": null,
   "id": "726c2859",
   "metadata": {},
   "outputs": [],
   "source": []
  },
  {
   "cell_type": "code",
   "execution_count": null,
   "id": "7a4a8d18",
   "metadata": {},
   "outputs": [],
   "source": []
  },
  {
   "cell_type": "code",
   "execution_count": null,
   "id": "6d5aa140",
   "metadata": {},
   "outputs": [],
   "source": []
  },
  {
   "cell_type": "code",
   "execution_count": null,
   "id": "abc15802",
   "metadata": {},
   "outputs": [],
   "source": []
  },
  {
   "cell_type": "code",
   "execution_count": null,
   "id": "5adc22f7",
   "metadata": {},
   "outputs": [],
   "source": []
  },
  {
   "cell_type": "code",
   "execution_count": null,
   "id": "41c3225a",
   "metadata": {},
   "outputs": [],
   "source": []
  },
  {
   "cell_type": "code",
   "execution_count": null,
   "id": "9e2d8211",
   "metadata": {},
   "outputs": [],
   "source": []
  },
  {
   "cell_type": "code",
   "execution_count": null,
   "id": "0e1042af",
   "metadata": {},
   "outputs": [],
   "source": []
  },
  {
   "cell_type": "code",
   "execution_count": null,
   "id": "fbe4c769",
   "metadata": {},
   "outputs": [],
   "source": []
  },
  {
   "cell_type": "code",
   "execution_count": null,
   "id": "1dd69d74",
   "metadata": {},
   "outputs": [],
   "source": []
  },
  {
   "cell_type": "code",
   "execution_count": null,
   "id": "c80590ff",
   "metadata": {},
   "outputs": [],
   "source": []
  },
  {
   "cell_type": "code",
   "execution_count": null,
   "id": "6e2a5158",
   "metadata": {},
   "outputs": [],
   "source": []
  },
  {
   "cell_type": "code",
   "execution_count": null,
   "id": "b286dca0",
   "metadata": {},
   "outputs": [],
   "source": []
  },
  {
   "cell_type": "code",
   "execution_count": null,
   "id": "494fff1a",
   "metadata": {},
   "outputs": [],
   "source": []
  },
  {
   "cell_type": "code",
   "execution_count": null,
   "id": "204a4c8e",
   "metadata": {},
   "outputs": [],
   "source": []
  },
  {
   "cell_type": "code",
   "execution_count": null,
   "id": "d88e6e1c",
   "metadata": {},
   "outputs": [],
   "source": []
  },
  {
   "cell_type": "code",
   "execution_count": null,
   "id": "92cd23c6",
   "metadata": {},
   "outputs": [],
   "source": []
  },
  {
   "cell_type": "code",
   "execution_count": null,
   "id": "0b5987a4",
   "metadata": {},
   "outputs": [],
   "source": []
  },
  {
   "cell_type": "code",
   "execution_count": null,
   "id": "84df782b",
   "metadata": {},
   "outputs": [],
   "source": []
  },
  {
   "cell_type": "code",
   "execution_count": null,
   "id": "84de7c04",
   "metadata": {},
   "outputs": [],
   "source": []
  }
 ],
 "metadata": {
  "kernelspec": {
   "display_name": "Python 3 (ipykernel)",
   "language": "python",
   "name": "python3"
  },
  "language_info": {
   "codemirror_mode": {
    "name": "ipython",
    "version": 3
   },
   "file_extension": ".py",
   "mimetype": "text/x-python",
   "name": "python",
   "nbconvert_exporter": "python",
   "pygments_lexer": "ipython3",
   "version": "3.9.7"
  }
 },
 "nbformat": 4,
 "nbformat_minor": 5
}
