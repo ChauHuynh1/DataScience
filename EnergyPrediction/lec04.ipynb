{
 "cells": [
  {
   "cell_type": "code",
   "execution_count": 1,
   "metadata": {},
   "outputs": [],
   "source": [
    "import pandas as pd\n",
    "import numpy as np\n",
    "import matplotlib.pyplot as plt\n",
    "from sklearn import linear_model\n",
    "import sklearn.metrics as metrics"
   ]
  },
  {
   "cell_type": "code",
   "execution_count": 2,
   "metadata": {},
   "outputs": [
    {
     "data": {
      "text/html": [
       "<div>\n",
       "<style scoped>\n",
       "    .dataframe tbody tr th:only-of-type {\n",
       "        vertical-align: middle;\n",
       "    }\n",
       "\n",
       "    .dataframe tbody tr th {\n",
       "        vertical-align: top;\n",
       "    }\n",
       "\n",
       "    .dataframe thead th {\n",
       "        text-align: right;\n",
       "    }\n",
       "</style>\n",
       "<table border=\"1\" class=\"dataframe\">\n",
       "  <thead>\n",
       "    <tr style=\"text-align: right;\">\n",
       "      <th></th>\n",
       "      <th>Relative Compactness</th>\n",
       "      <th>Surface Area</th>\n",
       "      <th>Wall Area</th>\n",
       "      <th>Roof Area</th>\n",
       "      <th>Overall Height</th>\n",
       "      <th>Orientation</th>\n",
       "      <th>Glazing Area</th>\n",
       "      <th>Glazing Area Distribution</th>\n",
       "      <th>Heating Load</th>\n",
       "    </tr>\n",
       "  </thead>\n",
       "  <tbody>\n",
       "    <tr>\n",
       "      <th>0</th>\n",
       "      <td>0.98</td>\n",
       "      <td>514.5</td>\n",
       "      <td>294.0</td>\n",
       "      <td>110.25</td>\n",
       "      <td>7.0</td>\n",
       "      <td>2</td>\n",
       "      <td>0.0</td>\n",
       "      <td>0</td>\n",
       "      <td>15.55</td>\n",
       "    </tr>\n",
       "    <tr>\n",
       "      <th>1</th>\n",
       "      <td>0.98</td>\n",
       "      <td>514.5</td>\n",
       "      <td>294.0</td>\n",
       "      <td>110.25</td>\n",
       "      <td>7.0</td>\n",
       "      <td>3</td>\n",
       "      <td>0.0</td>\n",
       "      <td>0</td>\n",
       "      <td>15.55</td>\n",
       "    </tr>\n",
       "    <tr>\n",
       "      <th>2</th>\n",
       "      <td>0.98</td>\n",
       "      <td>514.5</td>\n",
       "      <td>294.0</td>\n",
       "      <td>110.25</td>\n",
       "      <td>7.0</td>\n",
       "      <td>4</td>\n",
       "      <td>0.0</td>\n",
       "      <td>0</td>\n",
       "      <td>15.55</td>\n",
       "    </tr>\n",
       "    <tr>\n",
       "      <th>3</th>\n",
       "      <td>0.98</td>\n",
       "      <td>514.5</td>\n",
       "      <td>294.0</td>\n",
       "      <td>110.25</td>\n",
       "      <td>7.0</td>\n",
       "      <td>5</td>\n",
       "      <td>0.0</td>\n",
       "      <td>0</td>\n",
       "      <td>15.55</td>\n",
       "    </tr>\n",
       "    <tr>\n",
       "      <th>4</th>\n",
       "      <td>0.90</td>\n",
       "      <td>563.5</td>\n",
       "      <td>318.5</td>\n",
       "      <td>122.50</td>\n",
       "      <td>7.0</td>\n",
       "      <td>2</td>\n",
       "      <td>0.0</td>\n",
       "      <td>0</td>\n",
       "      <td>20.84</td>\n",
       "    </tr>\n",
       "    <tr>\n",
       "      <th>...</th>\n",
       "      <td>...</td>\n",
       "      <td>...</td>\n",
       "      <td>...</td>\n",
       "      <td>...</td>\n",
       "      <td>...</td>\n",
       "      <td>...</td>\n",
       "      <td>...</td>\n",
       "      <td>...</td>\n",
       "      <td>...</td>\n",
       "    </tr>\n",
       "    <tr>\n",
       "      <th>763</th>\n",
       "      <td>0.64</td>\n",
       "      <td>784.0</td>\n",
       "      <td>343.0</td>\n",
       "      <td>220.50</td>\n",
       "      <td>3.5</td>\n",
       "      <td>5</td>\n",
       "      <td>0.4</td>\n",
       "      <td>5</td>\n",
       "      <td>17.88</td>\n",
       "    </tr>\n",
       "    <tr>\n",
       "      <th>764</th>\n",
       "      <td>0.62</td>\n",
       "      <td>808.5</td>\n",
       "      <td>367.5</td>\n",
       "      <td>220.50</td>\n",
       "      <td>3.5</td>\n",
       "      <td>2</td>\n",
       "      <td>0.4</td>\n",
       "      <td>5</td>\n",
       "      <td>16.54</td>\n",
       "    </tr>\n",
       "    <tr>\n",
       "      <th>765</th>\n",
       "      <td>0.62</td>\n",
       "      <td>808.5</td>\n",
       "      <td>367.5</td>\n",
       "      <td>220.50</td>\n",
       "      <td>3.5</td>\n",
       "      <td>3</td>\n",
       "      <td>0.4</td>\n",
       "      <td>5</td>\n",
       "      <td>16.44</td>\n",
       "    </tr>\n",
       "    <tr>\n",
       "      <th>766</th>\n",
       "      <td>0.62</td>\n",
       "      <td>808.5</td>\n",
       "      <td>367.5</td>\n",
       "      <td>220.50</td>\n",
       "      <td>3.5</td>\n",
       "      <td>4</td>\n",
       "      <td>0.4</td>\n",
       "      <td>5</td>\n",
       "      <td>16.48</td>\n",
       "    </tr>\n",
       "    <tr>\n",
       "      <th>767</th>\n",
       "      <td>0.62</td>\n",
       "      <td>808.5</td>\n",
       "      <td>367.5</td>\n",
       "      <td>220.50</td>\n",
       "      <td>3.5</td>\n",
       "      <td>5</td>\n",
       "      <td>0.4</td>\n",
       "      <td>5</td>\n",
       "      <td>16.64</td>\n",
       "    </tr>\n",
       "  </tbody>\n",
       "</table>\n",
       "<p>768 rows × 9 columns</p>\n",
       "</div>"
      ],
      "text/plain": [
       "     Relative Compactness  Surface Area  Wall Area  Roof Area  Overall Height  \\\n",
       "0                    0.98         514.5      294.0     110.25             7.0   \n",
       "1                    0.98         514.5      294.0     110.25             7.0   \n",
       "2                    0.98         514.5      294.0     110.25             7.0   \n",
       "3                    0.98         514.5      294.0     110.25             7.0   \n",
       "4                    0.90         563.5      318.5     122.50             7.0   \n",
       "..                    ...           ...        ...        ...             ...   \n",
       "763                  0.64         784.0      343.0     220.50             3.5   \n",
       "764                  0.62         808.5      367.5     220.50             3.5   \n",
       "765                  0.62         808.5      367.5     220.50             3.5   \n",
       "766                  0.62         808.5      367.5     220.50             3.5   \n",
       "767                  0.62         808.5      367.5     220.50             3.5   \n",
       "\n",
       "     Orientation  Glazing Area  Glazing Area Distribution  Heating Load  \n",
       "0              2           0.0                          0         15.55  \n",
       "1              3           0.0                          0         15.55  \n",
       "2              4           0.0                          0         15.55  \n",
       "3              5           0.0                          0         15.55  \n",
       "4              2           0.0                          0         20.84  \n",
       "..           ...           ...                        ...           ...  \n",
       "763            5           0.4                          5         17.88  \n",
       "764            2           0.4                          5         16.54  \n",
       "765            3           0.4                          5         16.44  \n",
       "766            4           0.4                          5         16.48  \n",
       "767            5           0.4                          5         16.64  \n",
       "\n",
       "[768 rows x 9 columns]"
      ]
     },
     "execution_count": 2,
     "metadata": {},
     "output_type": "execute_result"
    }
   ],
   "source": [
    "# Load the dataset\n",
    "df = pd.read_excel('energy.xlsx', names=['Relative Compactness', 'Surface Area', 'Wall Area',\n",
    "                                         'Roof Area', 'Overall Height','Orientation',\n",
    "                                         'Glazing Area', 'Glazing Area Distribution',\n",
    "                                         'Heating Load'])\n",
    "df"
   ]
  },
  {
   "cell_type": "markdown",
   "metadata": {},
   "source": [
    "# Feature Engineering"
   ]
  },
  {
   "cell_type": "code",
   "execution_count": 3,
   "metadata": {},
   "outputs": [
    {
     "data": {
      "text/html": [
       "<style  type=\"text/css\" >\n",
       "#T_4f245bf4_2ae3_11eb_8270_74d83eeb7e12row0_col0,#T_4f245bf4_2ae3_11eb_8270_74d83eeb7e12row1_col1,#T_4f245bf4_2ae3_11eb_8270_74d83eeb7e12row2_col2,#T_4f245bf4_2ae3_11eb_8270_74d83eeb7e12row3_col3,#T_4f245bf4_2ae3_11eb_8270_74d83eeb7e12row4_col4,#T_4f245bf4_2ae3_11eb_8270_74d83eeb7e12row5_col5,#T_4f245bf4_2ae3_11eb_8270_74d83eeb7e12row6_col6,#T_4f245bf4_2ae3_11eb_8270_74d83eeb7e12row7_col7,#T_4f245bf4_2ae3_11eb_8270_74d83eeb7e12row8_col8{\n",
       "            background-color:  #08306b;\n",
       "            color:  #f1f1f1;\n",
       "        }#T_4f245bf4_2ae3_11eb_8270_74d83eeb7e12row0_col1,#T_4f245bf4_2ae3_11eb_8270_74d83eeb7e12row0_col5,#T_4f245bf4_2ae3_11eb_8270_74d83eeb7e12row0_col6,#T_4f245bf4_2ae3_11eb_8270_74d83eeb7e12row0_col7,#T_4f245bf4_2ae3_11eb_8270_74d83eeb7e12row1_col0,#T_4f245bf4_2ae3_11eb_8270_74d83eeb7e12row1_col5,#T_4f245bf4_2ae3_11eb_8270_74d83eeb7e12row1_col6,#T_4f245bf4_2ae3_11eb_8270_74d83eeb7e12row1_col7,#T_4f245bf4_2ae3_11eb_8270_74d83eeb7e12row2_col5,#T_4f245bf4_2ae3_11eb_8270_74d83eeb7e12row2_col6,#T_4f245bf4_2ae3_11eb_8270_74d83eeb7e12row2_col7,#T_4f245bf4_2ae3_11eb_8270_74d83eeb7e12row3_col2,#T_4f245bf4_2ae3_11eb_8270_74d83eeb7e12row3_col4,#T_4f245bf4_2ae3_11eb_8270_74d83eeb7e12row3_col5,#T_4f245bf4_2ae3_11eb_8270_74d83eeb7e12row3_col6,#T_4f245bf4_2ae3_11eb_8270_74d83eeb7e12row3_col7,#T_4f245bf4_2ae3_11eb_8270_74d83eeb7e12row3_col8,#T_4f245bf4_2ae3_11eb_8270_74d83eeb7e12row4_col3,#T_4f245bf4_2ae3_11eb_8270_74d83eeb7e12row4_col5,#T_4f245bf4_2ae3_11eb_8270_74d83eeb7e12row4_col6,#T_4f245bf4_2ae3_11eb_8270_74d83eeb7e12row4_col7,#T_4f245bf4_2ae3_11eb_8270_74d83eeb7e12row5_col6,#T_4f245bf4_2ae3_11eb_8270_74d83eeb7e12row5_col7,#T_4f245bf4_2ae3_11eb_8270_74d83eeb7e12row6_col5,#T_4f245bf4_2ae3_11eb_8270_74d83eeb7e12row7_col5,#T_4f245bf4_2ae3_11eb_8270_74d83eeb7e12row8_col5{\n",
       "            background-color:  #f7fbff;\n",
       "            color:  #000000;\n",
       "        }#T_4f245bf4_2ae3_11eb_8270_74d83eeb7e12row0_col2,#T_4f245bf4_2ae3_11eb_8270_74d83eeb7e12row4_col1{\n",
       "            background-color:  #eaf2fb;\n",
       "            color:  #000000;\n",
       "        }#T_4f245bf4_2ae3_11eb_8270_74d83eeb7e12row0_col3{\n",
       "            background-color:  #edf4fc;\n",
       "            color:  #000000;\n",
       "        }#T_4f245bf4_2ae3_11eb_8270_74d83eeb7e12row0_col4,#T_4f245bf4_2ae3_11eb_8270_74d83eeb7e12row4_col0{\n",
       "            background-color:  #08478d;\n",
       "            color:  #f1f1f1;\n",
       "        }#T_4f245bf4_2ae3_11eb_8270_74d83eeb7e12row0_col8{\n",
       "            background-color:  #1764ab;\n",
       "            color:  #f1f1f1;\n",
       "        }#T_4f245bf4_2ae3_11eb_8270_74d83eeb7e12row1_col2{\n",
       "            background-color:  #9dcae1;\n",
       "            color:  #000000;\n",
       "        }#T_4f245bf4_2ae3_11eb_8270_74d83eeb7e12row1_col3,#T_4f245bf4_2ae3_11eb_8270_74d83eeb7e12row3_col1,#T_4f245bf4_2ae3_11eb_8270_74d83eeb7e12row4_col8{\n",
       "            background-color:  #084082;\n",
       "            color:  #f1f1f1;\n",
       "        }#T_4f245bf4_2ae3_11eb_8270_74d83eeb7e12row1_col4,#T_4f245bf4_2ae3_11eb_8270_74d83eeb7e12row8_col3{\n",
       "            background-color:  #ecf4fb;\n",
       "            color:  #000000;\n",
       "        }#T_4f245bf4_2ae3_11eb_8270_74d83eeb7e12row1_col8{\n",
       "            background-color:  #e1edf8;\n",
       "            color:  #000000;\n",
       "        }#T_4f245bf4_2ae3_11eb_8270_74d83eeb7e12row2_col0{\n",
       "            background-color:  #95c5df;\n",
       "            color:  #000000;\n",
       "        }#T_4f245bf4_2ae3_11eb_8270_74d83eeb7e12row2_col1{\n",
       "            background-color:  #4b98ca;\n",
       "            color:  #000000;\n",
       "        }#T_4f245bf4_2ae3_11eb_8270_74d83eeb7e12row2_col3{\n",
       "            background-color:  #a8cee4;\n",
       "            color:  #000000;\n",
       "        }#T_4f245bf4_2ae3_11eb_8270_74d83eeb7e12row2_col4{\n",
       "            background-color:  #3f8fc5;\n",
       "            color:  #000000;\n",
       "        }#T_4f245bf4_2ae3_11eb_8270_74d83eeb7e12row2_col8{\n",
       "            background-color:  #2c7cba;\n",
       "            color:  #000000;\n",
       "        }#T_4f245bf4_2ae3_11eb_8270_74d83eeb7e12row3_col0{\n",
       "            background-color:  #ebf3fb;\n",
       "            color:  #000000;\n",
       "        }#T_4f245bf4_2ae3_11eb_8270_74d83eeb7e12row4_col2{\n",
       "            background-color:  #82bbdb;\n",
       "            color:  #000000;\n",
       "        }#T_4f245bf4_2ae3_11eb_8270_74d83eeb7e12row5_col0,#T_4f245bf4_2ae3_11eb_8270_74d83eeb7e12row5_col1,#T_4f245bf4_2ae3_11eb_8270_74d83eeb7e12row6_col0,#T_4f245bf4_2ae3_11eb_8270_74d83eeb7e12row6_col1,#T_4f245bf4_2ae3_11eb_8270_74d83eeb7e12row7_col0,#T_4f245bf4_2ae3_11eb_8270_74d83eeb7e12row7_col1{\n",
       "            background-color:  #6caed6;\n",
       "            color:  #000000;\n",
       "        }#T_4f245bf4_2ae3_11eb_8270_74d83eeb7e12row5_col2,#T_4f245bf4_2ae3_11eb_8270_74d83eeb7e12row6_col2,#T_4f245bf4_2ae3_11eb_8270_74d83eeb7e12row7_col2{\n",
       "            background-color:  #cbdef1;\n",
       "            color:  #000000;\n",
       "        }#T_4f245bf4_2ae3_11eb_8270_74d83eeb7e12row5_col3,#T_4f245bf4_2ae3_11eb_8270_74d83eeb7e12row5_col4,#T_4f245bf4_2ae3_11eb_8270_74d83eeb7e12row6_col3,#T_4f245bf4_2ae3_11eb_8270_74d83eeb7e12row6_col4,#T_4f245bf4_2ae3_11eb_8270_74d83eeb7e12row7_col3,#T_4f245bf4_2ae3_11eb_8270_74d83eeb7e12row7_col4{\n",
       "            background-color:  #6dafd7;\n",
       "            color:  #000000;\n",
       "        }#T_4f245bf4_2ae3_11eb_8270_74d83eeb7e12row5_col8{\n",
       "            background-color:  #7ab6d9;\n",
       "            color:  #000000;\n",
       "        }#T_4f245bf4_2ae3_11eb_8270_74d83eeb7e12row6_col7,#T_4f245bf4_2ae3_11eb_8270_74d83eeb7e12row7_col6{\n",
       "            background-color:  #cde0f1;\n",
       "            color:  #000000;\n",
       "        }#T_4f245bf4_2ae3_11eb_8270_74d83eeb7e12row6_col8{\n",
       "            background-color:  #4896c8;\n",
       "            color:  #000000;\n",
       "        }#T_4f245bf4_2ae3_11eb_8270_74d83eeb7e12row7_col8{\n",
       "            background-color:  #68acd5;\n",
       "            color:  #000000;\n",
       "        }#T_4f245bf4_2ae3_11eb_8270_74d83eeb7e12row8_col0{\n",
       "            background-color:  #1561a9;\n",
       "            color:  #f1f1f1;\n",
       "        }#T_4f245bf4_2ae3_11eb_8270_74d83eeb7e12row8_col1{\n",
       "            background-color:  #d6e6f4;\n",
       "            color:  #000000;\n",
       "        }#T_4f245bf4_2ae3_11eb_8270_74d83eeb7e12row8_col2{\n",
       "            background-color:  #519ccc;\n",
       "            color:  #000000;\n",
       "        }#T_4f245bf4_2ae3_11eb_8270_74d83eeb7e12row8_col4{\n",
       "            background-color:  #083e81;\n",
       "            color:  #f1f1f1;\n",
       "        }#T_4f245bf4_2ae3_11eb_8270_74d83eeb7e12row8_col6{\n",
       "            background-color:  #bfd8ed;\n",
       "            color:  #000000;\n",
       "        }#T_4f245bf4_2ae3_11eb_8270_74d83eeb7e12row8_col7{\n",
       "            background-color:  #e6f0f9;\n",
       "            color:  #000000;\n",
       "        }</style><table id=\"T_4f245bf4_2ae3_11eb_8270_74d83eeb7e12\" ><thead>    <tr>        <th class=\"blank level0\" ></th>        <th class=\"col_heading level0 col0\" >Relative Compactness</th>        <th class=\"col_heading level0 col1\" >Surface Area</th>        <th class=\"col_heading level0 col2\" >Wall Area</th>        <th class=\"col_heading level0 col3\" >Roof Area</th>        <th class=\"col_heading level0 col4\" >Overall Height</th>        <th class=\"col_heading level0 col5\" >Orientation</th>        <th class=\"col_heading level0 col6\" >Glazing Area</th>        <th class=\"col_heading level0 col7\" >Glazing Area Distribution</th>        <th class=\"col_heading level0 col8\" >Heating Load</th>    </tr></thead><tbody>\n",
       "                <tr>\n",
       "                        <th id=\"T_4f245bf4_2ae3_11eb_8270_74d83eeb7e12level0_row0\" class=\"row_heading level0 row0\" >Relative Compactness</th>\n",
       "                        <td id=\"T_4f245bf4_2ae3_11eb_8270_74d83eeb7e12row0_col0\" class=\"data row0 col0\" >1.000000</td>\n",
       "                        <td id=\"T_4f245bf4_2ae3_11eb_8270_74d83eeb7e12row0_col1\" class=\"data row0 col1\" >-0.991901</td>\n",
       "                        <td id=\"T_4f245bf4_2ae3_11eb_8270_74d83eeb7e12row0_col2\" class=\"data row0 col2\" >-0.203782</td>\n",
       "                        <td id=\"T_4f245bf4_2ae3_11eb_8270_74d83eeb7e12row0_col3\" class=\"data row0 col3\" >-0.868823</td>\n",
       "                        <td id=\"T_4f245bf4_2ae3_11eb_8270_74d83eeb7e12row0_col4\" class=\"data row0 col4\" >0.827747</td>\n",
       "                        <td id=\"T_4f245bf4_2ae3_11eb_8270_74d83eeb7e12row0_col5\" class=\"data row0 col5\" >0.000000</td>\n",
       "                        <td id=\"T_4f245bf4_2ae3_11eb_8270_74d83eeb7e12row0_col6\" class=\"data row0 col6\" >0.000000</td>\n",
       "                        <td id=\"T_4f245bf4_2ae3_11eb_8270_74d83eeb7e12row0_col7\" class=\"data row0 col7\" >0.000000</td>\n",
       "                        <td id=\"T_4f245bf4_2ae3_11eb_8270_74d83eeb7e12row0_col8\" class=\"data row0 col8\" >0.622272</td>\n",
       "            </tr>\n",
       "            <tr>\n",
       "                        <th id=\"T_4f245bf4_2ae3_11eb_8270_74d83eeb7e12level0_row1\" class=\"row_heading level0 row1\" >Surface Area</th>\n",
       "                        <td id=\"T_4f245bf4_2ae3_11eb_8270_74d83eeb7e12row1_col0\" class=\"data row1 col0\" >-0.991901</td>\n",
       "                        <td id=\"T_4f245bf4_2ae3_11eb_8270_74d83eeb7e12row1_col1\" class=\"data row1 col1\" >1.000000</td>\n",
       "                        <td id=\"T_4f245bf4_2ae3_11eb_8270_74d83eeb7e12row1_col2\" class=\"data row1 col2\" >0.195502</td>\n",
       "                        <td id=\"T_4f245bf4_2ae3_11eb_8270_74d83eeb7e12row1_col3\" class=\"data row1 col3\" >0.880720</td>\n",
       "                        <td id=\"T_4f245bf4_2ae3_11eb_8270_74d83eeb7e12row1_col4\" class=\"data row1 col4\" >-0.858148</td>\n",
       "                        <td id=\"T_4f245bf4_2ae3_11eb_8270_74d83eeb7e12row1_col5\" class=\"data row1 col5\" >0.000000</td>\n",
       "                        <td id=\"T_4f245bf4_2ae3_11eb_8270_74d83eeb7e12row1_col6\" class=\"data row1 col6\" >0.000000</td>\n",
       "                        <td id=\"T_4f245bf4_2ae3_11eb_8270_74d83eeb7e12row1_col7\" class=\"data row1 col7\" >-0.000000</td>\n",
       "                        <td id=\"T_4f245bf4_2ae3_11eb_8270_74d83eeb7e12row1_col8\" class=\"data row1 col8\" >-0.658120</td>\n",
       "            </tr>\n",
       "            <tr>\n",
       "                        <th id=\"T_4f245bf4_2ae3_11eb_8270_74d83eeb7e12level0_row2\" class=\"row_heading level0 row2\" >Wall Area</th>\n",
       "                        <td id=\"T_4f245bf4_2ae3_11eb_8270_74d83eeb7e12row2_col0\" class=\"data row2 col0\" >-0.203782</td>\n",
       "                        <td id=\"T_4f245bf4_2ae3_11eb_8270_74d83eeb7e12row2_col1\" class=\"data row2 col1\" >0.195502</td>\n",
       "                        <td id=\"T_4f245bf4_2ae3_11eb_8270_74d83eeb7e12row2_col2\" class=\"data row2 col2\" >1.000000</td>\n",
       "                        <td id=\"T_4f245bf4_2ae3_11eb_8270_74d83eeb7e12row2_col3\" class=\"data row2 col3\" >-0.292316</td>\n",
       "                        <td id=\"T_4f245bf4_2ae3_11eb_8270_74d83eeb7e12row2_col4\" class=\"data row2 col4\" >0.280976</td>\n",
       "                        <td id=\"T_4f245bf4_2ae3_11eb_8270_74d83eeb7e12row2_col5\" class=\"data row2 col5\" >0.000000</td>\n",
       "                        <td id=\"T_4f245bf4_2ae3_11eb_8270_74d83eeb7e12row2_col6\" class=\"data row2 col6\" >-0.000000</td>\n",
       "                        <td id=\"T_4f245bf4_2ae3_11eb_8270_74d83eeb7e12row2_col7\" class=\"data row2 col7\" >0.000000</td>\n",
       "                        <td id=\"T_4f245bf4_2ae3_11eb_8270_74d83eeb7e12row2_col8\" class=\"data row2 col8\" >0.455671</td>\n",
       "            </tr>\n",
       "            <tr>\n",
       "                        <th id=\"T_4f245bf4_2ae3_11eb_8270_74d83eeb7e12level0_row3\" class=\"row_heading level0 row3\" >Roof Area</th>\n",
       "                        <td id=\"T_4f245bf4_2ae3_11eb_8270_74d83eeb7e12row3_col0\" class=\"data row3 col0\" >-0.868823</td>\n",
       "                        <td id=\"T_4f245bf4_2ae3_11eb_8270_74d83eeb7e12row3_col1\" class=\"data row3 col1\" >0.880720</td>\n",
       "                        <td id=\"T_4f245bf4_2ae3_11eb_8270_74d83eeb7e12row3_col2\" class=\"data row3 col2\" >-0.292316</td>\n",
       "                        <td id=\"T_4f245bf4_2ae3_11eb_8270_74d83eeb7e12row3_col3\" class=\"data row3 col3\" >1.000000</td>\n",
       "                        <td id=\"T_4f245bf4_2ae3_11eb_8270_74d83eeb7e12row3_col4\" class=\"data row3 col4\" >-0.972512</td>\n",
       "                        <td id=\"T_4f245bf4_2ae3_11eb_8270_74d83eeb7e12row3_col5\" class=\"data row3 col5\" >0.000000</td>\n",
       "                        <td id=\"T_4f245bf4_2ae3_11eb_8270_74d83eeb7e12row3_col6\" class=\"data row3 col6\" >-0.000000</td>\n",
       "                        <td id=\"T_4f245bf4_2ae3_11eb_8270_74d83eeb7e12row3_col7\" class=\"data row3 col7\" >-0.000000</td>\n",
       "                        <td id=\"T_4f245bf4_2ae3_11eb_8270_74d83eeb7e12row3_col8\" class=\"data row3 col8\" >-0.861828</td>\n",
       "            </tr>\n",
       "            <tr>\n",
       "                        <th id=\"T_4f245bf4_2ae3_11eb_8270_74d83eeb7e12level0_row4\" class=\"row_heading level0 row4\" >Overall Height</th>\n",
       "                        <td id=\"T_4f245bf4_2ae3_11eb_8270_74d83eeb7e12row4_col0\" class=\"data row4 col0\" >0.827747</td>\n",
       "                        <td id=\"T_4f245bf4_2ae3_11eb_8270_74d83eeb7e12row4_col1\" class=\"data row4 col1\" >-0.858148</td>\n",
       "                        <td id=\"T_4f245bf4_2ae3_11eb_8270_74d83eeb7e12row4_col2\" class=\"data row4 col2\" >0.280976</td>\n",
       "                        <td id=\"T_4f245bf4_2ae3_11eb_8270_74d83eeb7e12row4_col3\" class=\"data row4 col3\" >-0.972512</td>\n",
       "                        <td id=\"T_4f245bf4_2ae3_11eb_8270_74d83eeb7e12row4_col4\" class=\"data row4 col4\" >1.000000</td>\n",
       "                        <td id=\"T_4f245bf4_2ae3_11eb_8270_74d83eeb7e12row4_col5\" class=\"data row4 col5\" >0.000000</td>\n",
       "                        <td id=\"T_4f245bf4_2ae3_11eb_8270_74d83eeb7e12row4_col6\" class=\"data row4 col6\" >0.000000</td>\n",
       "                        <td id=\"T_4f245bf4_2ae3_11eb_8270_74d83eeb7e12row4_col7\" class=\"data row4 col7\" >0.000000</td>\n",
       "                        <td id=\"T_4f245bf4_2ae3_11eb_8270_74d83eeb7e12row4_col8\" class=\"data row4 col8\" >0.889430</td>\n",
       "            </tr>\n",
       "            <tr>\n",
       "                        <th id=\"T_4f245bf4_2ae3_11eb_8270_74d83eeb7e12level0_row5\" class=\"row_heading level0 row5\" >Orientation</th>\n",
       "                        <td id=\"T_4f245bf4_2ae3_11eb_8270_74d83eeb7e12row5_col0\" class=\"data row5 col0\" >0.000000</td>\n",
       "                        <td id=\"T_4f245bf4_2ae3_11eb_8270_74d83eeb7e12row5_col1\" class=\"data row5 col1\" >0.000000</td>\n",
       "                        <td id=\"T_4f245bf4_2ae3_11eb_8270_74d83eeb7e12row5_col2\" class=\"data row5 col2\" >0.000000</td>\n",
       "                        <td id=\"T_4f245bf4_2ae3_11eb_8270_74d83eeb7e12row5_col3\" class=\"data row5 col3\" >0.000000</td>\n",
       "                        <td id=\"T_4f245bf4_2ae3_11eb_8270_74d83eeb7e12row5_col4\" class=\"data row5 col4\" >0.000000</td>\n",
       "                        <td id=\"T_4f245bf4_2ae3_11eb_8270_74d83eeb7e12row5_col5\" class=\"data row5 col5\" >1.000000</td>\n",
       "                        <td id=\"T_4f245bf4_2ae3_11eb_8270_74d83eeb7e12row5_col6\" class=\"data row5 col6\" >0.000000</td>\n",
       "                        <td id=\"T_4f245bf4_2ae3_11eb_8270_74d83eeb7e12row5_col7\" class=\"data row5 col7\" >0.000000</td>\n",
       "                        <td id=\"T_4f245bf4_2ae3_11eb_8270_74d83eeb7e12row5_col8\" class=\"data row5 col8\" >-0.002587</td>\n",
       "            </tr>\n",
       "            <tr>\n",
       "                        <th id=\"T_4f245bf4_2ae3_11eb_8270_74d83eeb7e12level0_row6\" class=\"row_heading level0 row6\" >Glazing Area</th>\n",
       "                        <td id=\"T_4f245bf4_2ae3_11eb_8270_74d83eeb7e12row6_col0\" class=\"data row6 col0\" >0.000000</td>\n",
       "                        <td id=\"T_4f245bf4_2ae3_11eb_8270_74d83eeb7e12row6_col1\" class=\"data row6 col1\" >0.000000</td>\n",
       "                        <td id=\"T_4f245bf4_2ae3_11eb_8270_74d83eeb7e12row6_col2\" class=\"data row6 col2\" >-0.000000</td>\n",
       "                        <td id=\"T_4f245bf4_2ae3_11eb_8270_74d83eeb7e12row6_col3\" class=\"data row6 col3\" >-0.000000</td>\n",
       "                        <td id=\"T_4f245bf4_2ae3_11eb_8270_74d83eeb7e12row6_col4\" class=\"data row6 col4\" >0.000000</td>\n",
       "                        <td id=\"T_4f245bf4_2ae3_11eb_8270_74d83eeb7e12row6_col5\" class=\"data row6 col5\" >0.000000</td>\n",
       "                        <td id=\"T_4f245bf4_2ae3_11eb_8270_74d83eeb7e12row6_col6\" class=\"data row6 col6\" >1.000000</td>\n",
       "                        <td id=\"T_4f245bf4_2ae3_11eb_8270_74d83eeb7e12row6_col7\" class=\"data row6 col7\" >0.212964</td>\n",
       "                        <td id=\"T_4f245bf4_2ae3_11eb_8270_74d83eeb7e12row6_col8\" class=\"data row6 col8\" >0.269842</td>\n",
       "            </tr>\n",
       "            <tr>\n",
       "                        <th id=\"T_4f245bf4_2ae3_11eb_8270_74d83eeb7e12level0_row7\" class=\"row_heading level0 row7\" >Glazing Area Distribution</th>\n",
       "                        <td id=\"T_4f245bf4_2ae3_11eb_8270_74d83eeb7e12row7_col0\" class=\"data row7 col0\" >0.000000</td>\n",
       "                        <td id=\"T_4f245bf4_2ae3_11eb_8270_74d83eeb7e12row7_col1\" class=\"data row7 col1\" >-0.000000</td>\n",
       "                        <td id=\"T_4f245bf4_2ae3_11eb_8270_74d83eeb7e12row7_col2\" class=\"data row7 col2\" >0.000000</td>\n",
       "                        <td id=\"T_4f245bf4_2ae3_11eb_8270_74d83eeb7e12row7_col3\" class=\"data row7 col3\" >-0.000000</td>\n",
       "                        <td id=\"T_4f245bf4_2ae3_11eb_8270_74d83eeb7e12row7_col4\" class=\"data row7 col4\" >0.000000</td>\n",
       "                        <td id=\"T_4f245bf4_2ae3_11eb_8270_74d83eeb7e12row7_col5\" class=\"data row7 col5\" >0.000000</td>\n",
       "                        <td id=\"T_4f245bf4_2ae3_11eb_8270_74d83eeb7e12row7_col6\" class=\"data row7 col6\" >0.212964</td>\n",
       "                        <td id=\"T_4f245bf4_2ae3_11eb_8270_74d83eeb7e12row7_col7\" class=\"data row7 col7\" >1.000000</td>\n",
       "                        <td id=\"T_4f245bf4_2ae3_11eb_8270_74d83eeb7e12row7_col8\" class=\"data row7 col8\" >0.087368</td>\n",
       "            </tr>\n",
       "            <tr>\n",
       "                        <th id=\"T_4f245bf4_2ae3_11eb_8270_74d83eeb7e12level0_row8\" class=\"row_heading level0 row8\" >Heating Load</th>\n",
       "                        <td id=\"T_4f245bf4_2ae3_11eb_8270_74d83eeb7e12row8_col0\" class=\"data row8 col0\" >0.622272</td>\n",
       "                        <td id=\"T_4f245bf4_2ae3_11eb_8270_74d83eeb7e12row8_col1\" class=\"data row8 col1\" >-0.658120</td>\n",
       "                        <td id=\"T_4f245bf4_2ae3_11eb_8270_74d83eeb7e12row8_col2\" class=\"data row8 col2\" >0.455671</td>\n",
       "                        <td id=\"T_4f245bf4_2ae3_11eb_8270_74d83eeb7e12row8_col3\" class=\"data row8 col3\" >-0.861828</td>\n",
       "                        <td id=\"T_4f245bf4_2ae3_11eb_8270_74d83eeb7e12row8_col4\" class=\"data row8 col4\" >0.889430</td>\n",
       "                        <td id=\"T_4f245bf4_2ae3_11eb_8270_74d83eeb7e12row8_col5\" class=\"data row8 col5\" >-0.002587</td>\n",
       "                        <td id=\"T_4f245bf4_2ae3_11eb_8270_74d83eeb7e12row8_col6\" class=\"data row8 col6\" >0.269842</td>\n",
       "                        <td id=\"T_4f245bf4_2ae3_11eb_8270_74d83eeb7e12row8_col7\" class=\"data row8 col7\" >0.087368</td>\n",
       "                        <td id=\"T_4f245bf4_2ae3_11eb_8270_74d83eeb7e12row8_col8\" class=\"data row8 col8\" >1.000000</td>\n",
       "            </tr>\n",
       "    </tbody></table>"
      ],
      "text/plain": [
       "<pandas.io.formats.style.Styler at 0x20d68a212c8>"
      ]
     },
     "execution_count": 3,
     "metadata": {},
     "output_type": "execute_result"
    }
   ],
   "source": [
    "# correlation analysis\n",
    "corrMatrix = df.corr()\n",
    "corrMatrix.style.background_gradient(cmap='Blues')"
   ]
  },
  {
   "cell_type": "code",
   "execution_count": 4,
   "metadata": {},
   "outputs": [],
   "source": [
    "# separate label column\n",
    "X = df.copy()\n",
    "del(X['Heating Load'])\n",
    "X = np.array(X)\n",
    "Y = np.array(df['Heating Load'])"
   ]
  },
  {
   "cell_type": "code",
   "execution_count": 5,
   "metadata": {},
   "outputs": [
    {
     "name": "stdout",
     "output_type": "stream",
     "text": [
      "Num Features: 3\n",
      "Selected Features: [False  True  True  True False False False False]\n",
      "Feature Ranking: [2 1 1 1 4 6 3 5]\n"
     ]
    }
   ],
   "source": [
    "# Recursive Feature Elimination - feature selection\n",
    "from sklearn.feature_selection import RFE\n",
    "model = linear_model.LinearRegression()\n",
    "rfe = RFE(model, n_features_to_select=3)\n",
    "fit = rfe.fit(X, Y)\n",
    "print(\"Num Features: %s\" % (fit.n_features_))\n",
    "print(\"Selected Features: %s\" % (fit.support_))\n",
    "print(\"Feature Ranking: %s\" % (fit.ranking_))"
   ]
  },
  {
   "cell_type": "markdown",
   "metadata": {},
   "source": [
    "# Validation strategy "
   ]
  },
  {
   "cell_type": "code",
   "execution_count": 6,
   "metadata": {},
   "outputs": [],
   "source": [
    "# train/test split using index number\n",
    "# Split the data into training/testing sets\n",
    "X_train = X[:-100]\n",
    "X_test = X[-100:]\n",
    "\n",
    "# Split the targets into training/testing sets\n",
    "Y_train = Y[:-100]\n",
    "Y_test = Y[-100:]"
   ]
  },
  {
   "cell_type": "code",
   "execution_count": 7,
   "metadata": {},
   "outputs": [
    {
     "name": "stdout",
     "output_type": "stream",
     "text": [
      "614\n",
      "154\n"
     ]
    }
   ],
   "source": [
    "# train/test split with scikit-learn\n",
    "from sklearn.model_selection import train_test_split\n",
    "\n",
    "X_train, X_test, Y_train, Y_test = train_test_split(X, Y, test_size=0.2, random_state=0, shuffle=True)\n",
    "print(len(X_train))\n",
    "print(len(X_test))"
   ]
  },
  {
   "cell_type": "code",
   "execution_count": 8,
   "metadata": {},
   "outputs": [],
   "source": [
    "# set seed for any random process is important to reprodudce the results\n",
    "np.random.seed(0)"
   ]
  },
  {
   "cell_type": "code",
   "execution_count": 9,
   "metadata": {},
   "outputs": [
    {
     "name": "stdout",
     "output_type": "stream",
     "text": [
      "10.097910145687448\n",
      "9.603901902401628\n",
      "8.819851870101612\n",
      "7.805691051862854\n",
      "7.379525589368797\n"
     ]
    }
   ],
   "source": [
    "# K-fold cross validation\n",
    "from sklearn.model_selection import KFold\n",
    "kf = KFold(shuffle=True, random_state=0, n_splits=5)\n",
    "kf.get_n_splits(X)\n",
    "\n",
    "for train_index, test_index in kf.split(X):\n",
    "    X_train, X_test = X[train_index], X[test_index]\n",
    "    Y_train, Y_test = Y[train_index],Y[test_index]\n",
    "    ### Important: do the training and model evaluation inside the K-fold CV loop\n",
    "    model = linear_model.LinearRegression()\n",
    "    model.fit(X_train,Y_train)\n",
    "    Y_pred = model.predict(X_test)\n",
    "    rmse = metrics.mean_squared_error(Y_pred, Y_test)\n",
    "    print(rmse)\n"
   ]
  },
  {
   "cell_type": "code",
   "execution_count": 10,
   "metadata": {},
   "outputs": [
    {
     "name": "stdout",
     "output_type": "stream",
     "text": [
      "[-10.09791015  -9.6039019   -8.81985187  -7.80569105  -7.37952559]\n"
     ]
    }
   ],
   "source": [
    "# K-Fold cross validation with cross val score\n",
    "from sklearn.model_selection import cross_val_score, KFold\n",
    "model = linear_model.LinearRegression()\n",
    "cv = KFold(shuffle=True, random_state=0, n_splits=5)\n",
    "scores = cross_val_score(model, X, Y, cv = cv, scoring = 'neg_mean_squared_error')\n",
    "print(scores)"
   ]
  },
  {
   "cell_type": "markdown",
   "metadata": {},
   "source": [
    "# Simple Linear Regression"
   ]
  },
  {
   "cell_type": "code",
   "execution_count": 11,
   "metadata": {},
   "outputs": [
    {
     "data": {
      "text/plain": [
       "(768,)"
      ]
     },
     "execution_count": 11,
     "metadata": {},
     "output_type": "execute_result"
    }
   ],
   "source": [
    "# Use only one feature\n",
    "X_one = np.array(df['Surface Area'])\n",
    "X_one.shape"
   ]
  },
  {
   "cell_type": "code",
   "execution_count": 12,
   "metadata": {},
   "outputs": [],
   "source": [
    "# reshape to have a 2D array to avoid error\n",
    "X_one = X_one.reshape(len(X_one),1)"
   ]
  },
  {
   "cell_type": "code",
   "execution_count": 13,
   "metadata": {},
   "outputs": [],
   "source": [
    "# Repeat the train test split\n",
    "X_train, X_test, Y_train, Y_test = train_test_split(X_one, Y, test_size=0.2, random_state=0, shuffle=True)"
   ]
  },
  {
   "cell_type": "code",
   "execution_count": 14,
   "metadata": {},
   "outputs": [
    {
     "data": {
      "text/plain": [
       "LinearRegression()"
      ]
     },
     "execution_count": 14,
     "metadata": {},
     "output_type": "execute_result"
    }
   ],
   "source": [
    "# Train the model using the training sets\n",
    "model = linear_model.LinearRegression()\n",
    "model.fit(X_train, Y_train)"
   ]
  },
  {
   "cell_type": "code",
   "execution_count": 15,
   "metadata": {},
   "outputs": [],
   "source": [
    "# Make predictions using the testing set\n",
    "Y_pred = model.predict(X_test)"
   ]
  },
  {
   "cell_type": "code",
   "execution_count": 16,
   "metadata": {},
   "outputs": [
    {
     "name": "stdout",
     "output_type": "stream",
     "text": [
      "Coefficients: \n",
      " [-0.07618897]\n",
      "Mean squared error: 70.19\n",
      "Coefficient of determination: -0.56\n"
     ]
    }
   ],
   "source": [
    "# The coefficients\n",
    "print('Coefficients: \\n', model.coef_)\n",
    "# The mean squared error\n",
    "print('Mean squared error: %.2f'\n",
    "      % metrics.mean_squared_error(Y_pred, Y_test))\n",
    "# The coefficient of determination: 1 is perfect prediction\n",
    "print('Coefficient of determination: %.2f'\n",
    "      % metrics.r2_score(Y_pred, Y_test))"
   ]
  },
  {
   "cell_type": "code",
   "execution_count": 17,
   "metadata": {},
   "outputs": [
    {
     "data": {
      "image/png": "[encoded data removed]",
      "text/plain": [
       "<Figure size 800x400 with 1 Axes>"
      ]
     },
     "metadata": {},
     "output_type": "display_data"
    }
   ],
   "source": [
    "# visualisation\n",
    "r2 = metrics.r2_score(Y_pred, Y_test)\n",
    "plt.style.use('default')\n",
    "plt.style.use('ggplot')\n",
    "\n",
    "fig, ax = plt.subplots(figsize=(8, 4))\n",
    "\n",
    "ax.plot(X_test, Y_pred, color='k', label='Regression model')\n",
    "ax.scatter(X_test, Y_test, edgecolor='k', facecolor='grey', alpha=0.7, label='Sample data')\n",
    "ax.set_ylabel('Heating Load', fontsize=14)\n",
    "ax.set_xlabel('Surface Area', fontsize=14)\n",
    "ax.legend(facecolor='white', fontsize=11)\n",
    "ax.set_title('$R^2= %.2f$' % r2, fontsize=18)\n",
    "\n",
    "fig.tight_layout()"
   ]
  },
  {
   "cell_type": "markdown",
   "metadata": {},
   "source": [
    "# Multiple Linear Regression"
   ]
  },
  {
   "cell_type": "code",
   "execution_count": 18,
   "metadata": {},
   "outputs": [],
   "source": [
    "# Repeat the train test split\n",
    "X_train, X_test, Y_train, Y_test = train_test_split(X, Y, test_size=0.2, random_state=0, shuffle=True)"
   ]
  },
  {
   "cell_type": "code",
   "execution_count": 19,
   "metadata": {},
   "outputs": [
    {
     "data": {
      "text/plain": [
       "LinearRegression()"
      ]
     },
     "execution_count": 19,
     "metadata": {},
     "output_type": "execute_result"
    }
   ],
   "source": [
    "# Train the model using the training sets\n",
    "model = linear_model.LinearRegression()\n",
    "model.fit(X_train, Y_train)"
   ]
  },
  {
   "cell_type": "code",
   "execution_count": 20,
   "metadata": {},
   "outputs": [],
   "source": [
    "# Make predictions using the testing set\n",
    "Y_pred = model.predict(X_test)"
   ]
  },
  {
   "cell_type": "code",
   "execution_count": 21,
   "metadata": {},
   "outputs": [
    {
     "name": "stdout",
     "output_type": "stream",
     "text": [
      "Coefficients: \n",
      " [-5.93338709e+01 -9.33419864e+11  9.33419864e+11  1.86683973e+12\n",
      "  4.04596519e+00 -2.17393786e-02  1.98405322e+01  1.56769976e-01]\n",
      "Mean squared error: 10.05\n",
      "Coefficient of determination: 0.89\n"
     ]
    }
   ],
   "source": [
    "# The coefficients\n",
    "print('Coefficients: \\n', model.coef_)\n",
    "# The mean squared error\n",
    "print('Mean squared error: %.2f'\n",
    "      % metrics.mean_squared_error(Y_pred, Y_test))\n",
    "# The coefficient of determination: 1 is perfect prediction\n",
    "print('Coefficient of determination: %.2f'\n",
    "      % metrics.r2_score(Y_pred, Y_test))"
   ]
  },
  {
   "cell_type": "markdown",
   "metadata": {},
   "source": [
    "# Polinomial Regression"
   ]
  },
  {
   "cell_type": "code",
   "execution_count": 22,
   "metadata": {},
   "outputs": [],
   "source": [
    "from sklearn.preprocessing import PolynomialFeatures\n",
    "from sklearn.pipeline import Pipeline\n",
    "model = Pipeline([('poly', PolynomialFeatures(degree=2)),\n",
    "                  ('linear', linear_model.LinearRegression())])\n",
    "# fit to an order-2 polynomial data\n",
    "model = model.fit(X_train,Y_train)"
   ]
  },
  {
   "cell_type": "code",
   "execution_count": 23,
   "metadata": {},
   "outputs": [],
   "source": [
    "# Make predictions using the testing set\n",
    "Y_pred = model.predict(X_test)"
   ]
  },
  {
   "cell_type": "code",
   "execution_count": 24,
   "metadata": {},
   "outputs": [
    {
     "name": "stdout",
     "output_type": "stream",
     "text": [
      "Coefficients: \n",
      " [-1.30650174e+08  1.17336714e+06  7.27308939e+05 -7.25847633e+05\n",
      " -1.22970594e+06  2.45939337e+05 -1.60232809e+00  1.04379113e+02\n",
      "  3.87494223e+00 -1.68725046e+05 -2.74295845e+05  2.73957511e+05\n",
      "  5.45527893e+05 -4.75047570e+04  1.22257291e+00 -3.98009993e+00\n",
      " -9.92735781e-01 -2.72042338e+08  2.64283261e+08  5.26194906e+08\n",
      " -2.51023839e+05  3.07413594e+05  5.78348642e+04  2.22778427e+05\n",
      "  7.75907624e+06  3.34079187e+07  2.50956247e+05 -3.07413593e+05\n",
      " -5.78348719e+04 -2.22778428e+05  3.57795311e+07  4.70828739e+05\n",
      " -6.14827186e+05 -1.15670005e+05 -4.45556860e+05  6.36774924e+05\n",
      " -1.84321906e-02 -3.44627696e+00 -4.58390946e-02 -4.39005945e-02\n",
      "  3.43861720e-01  7.56094486e-03 -1.93448410e+01 -1.88388431e+00\n",
      " -1.49171273e-01]\n",
      "Mean squared error: 0.67\n",
      "Coefficient of determination: 0.99\n"
     ]
    }
   ],
   "source": [
    "# The coefficients\n",
    "print('Coefficients: \\n', model.named_steps['linear'].coef_)\n",
    "# The mean squared error\n",
    "print('Mean squared error: %.2f'\n",
    "      % metrics.mean_squared_error(Y_pred, Y_test))\n",
    "# The coefficient of determination: 1 is perfect prediction\n",
    "print('Coefficient of determination: %.2f'\n",
    "      % metrics.r2_score(Y_pred, Y_test))"
   ]
  },
  {
   "cell_type": "code",
   "execution_count": null,
   "metadata": {},
   "outputs": [],
   "source": []
  }
 ],
 "metadata": {
  "kernelspec": {
   "display_name": "Python 3 (ipykernel)",
   "language": "python",
   "name": "python3"
  },
  "language_info": {
   "codemirror_mode": {
    "name": "ipython",
    "version": 3
   },
   "file_extension": ".py",
   "mimetype": "text/x-python",
   "name": "python",
   "nbconvert_exporter": "python",
   "pygments_lexer": "ipython3",
   "version": "3.9.7"
  }
 },
 "nbformat": 4,
 "nbformat_minor": 4
}
